{
  "cells": [
    {
      "cell_type": "markdown",
      "metadata": {
        "id": "qd7aZ694tkh0"
      },
      "source": [
        "# Aim:\n",
        "To implement decision tree classification on both a custom synthetic dataset and the Pima Indians Diabetes dataset, compare 'gini' and 'entropy' criteria, evaluate model performance, and visualize tree structures and key metrics."
      ]
    },
    {
      "cell_type": "code",
      "execution_count": null,
      "metadata": {
        "id": "wZnE3J7r85lK"
      },
      "outputs": [],
      "source": [
        "import pandas as pd\n",
        "import numpy as np"
      ]
    },
    {
      "cell_type": "code",
      "execution_count": null,
      "metadata": {
        "id": "luMxsEka9Rda"
      },
      "outputs": [],
      "source": [
        "df = pd.read_csv('/content/Decision_trees_1.csv')"
      ]
    },
    {
      "cell_type": "code",
      "execution_count": null,
      "metadata": {
        "colab": {
          "base_uri": "https://localhost:8080/"
        },
        "id": "c48lhBKb-mdz",
        "outputId": "0bfc5ee7-a7a7-4fc2-ef80-1a15d21483bd"
      },
      "outputs": [
        {
          "name": "stdout",
          "output_type": "stream",
          "text": [
            "   Customer ID Gender Car Type   Shirt Size Class\n",
            "0            1      M   Family        Small    C0\n",
            "1            2      M   Sports       Medium    C0\n",
            "2            3      M   Sports       Medium    C0\n",
            "3            4      M   Sports        Large    C0\n",
            "4            5      M   Sports  Extra large    C0\n"
          ]
        }
      ],
      "source": [
        "dataset = pd.read_csv('/content/Decision_trees_1.csv')\n",
        "print(dataset.head())"
      ]
    },
    {
      "cell_type": "code",
      "execution_count": null,
      "metadata": {
        "colab": {
          "base_uri": "https://localhost:8080/"
        },
        "id": "lTkrHjrqBM3c",
        "outputId": "4397cbbe-32bf-497a-86d0-716662c95691"
      },
      "outputs": [
        {
          "data": {
            "text/plain": [
              "(20, 5)"
            ]
          },
          "execution_count": 48,
          "metadata": {},
          "output_type": "execute_result"
        }
      ],
      "source": [
        "df.shape"
      ]
    },
    {
      "cell_type": "code",
      "execution_count": null,
      "metadata": {
        "id": "_Nv5I5jz_sHT"
      },
      "outputs": [],
      "source": [
        "from sklearn import preprocessing\n",
        "label_encoder=preprocessing.LabelEncoder()\n",
        "df['Class']=label_encoder.fit_transform(df['Class'])\n",
        "df['Gender']=label_encoder.fit_transform(df['Gender'])\n",
        "df['Car Type']=label_encoder.fit_transform(df['Car Type'])\n",
        "df['Shirt Size']=label_encoder.fit_transform(df['Shirt Size'])"
      ]
    },
    {
      "cell_type": "code",
      "execution_count": null,
      "metadata": {
        "id": "7MymthGP-9nN"
      },
      "outputs": [],
      "source": [
        "df = df.apply(label_encoder.fit_transform)"
      ]
    },
    {
      "cell_type": "code",
      "execution_count": null,
      "metadata": {
        "id": "P-OVIPSNB59V"
      },
      "outputs": [],
      "source": [
        "X = df[['Gender', 'Car Type', 'Shirt Size']]\n",
        "Y = df[['Class']]"
      ]
    },
    {
      "cell_type": "code",
      "execution_count": null,
      "metadata": {
        "colab": {
          "base_uri": "https://localhost:8080/",
          "height": 676
        },
        "id": "hPmckkMRCJ3z",
        "outputId": "7895e180-4e48-4d37-8223-1d100f460c50"
      },
      "outputs": [
        {
          "data": {
            "text/html": [
              "\n",
              "  <div id=\"df-cb9def71-8c2c-4572-995b-4195ad0fb56a\">\n",
              "    <div class=\"colab-df-container\">\n",
              "      <div>\n",
              "<style scoped>\n",
              "    .dataframe tbody tr th:only-of-type {\n",
              "        vertical-align: middle;\n",
              "    }\n",
              "\n",
              "    .dataframe tbody tr th {\n",
              "        vertical-align: top;\n",
              "    }\n",
              "\n",
              "    .dataframe thead th {\n",
              "        text-align: right;\n",
              "    }\n",
              "</style>\n",
              "<table border=\"1\" class=\"dataframe\">\n",
              "  <thead>\n",
              "    <tr style=\"text-align: right;\">\n",
              "      <th></th>\n",
              "      <th>Gender</th>\n",
              "      <th>Car Type</th>\n",
              "      <th>Shirt Size</th>\n",
              "    </tr>\n",
              "  </thead>\n",
              "  <tbody>\n",
              "    <tr>\n",
              "      <th>0</th>\n",
              "      <td>1</td>\n",
              "      <td>0</td>\n",
              "      <td>4</td>\n",
              "    </tr>\n",
              "    <tr>\n",
              "      <th>1</th>\n",
              "      <td>1</td>\n",
              "      <td>3</td>\n",
              "      <td>3</td>\n",
              "    </tr>\n",
              "    <tr>\n",
              "      <th>2</th>\n",
              "      <td>1</td>\n",
              "      <td>3</td>\n",
              "      <td>3</td>\n",
              "    </tr>\n",
              "    <tr>\n",
              "      <th>3</th>\n",
              "      <td>1</td>\n",
              "      <td>3</td>\n",
              "      <td>2</td>\n",
              "    </tr>\n",
              "    <tr>\n",
              "      <th>4</th>\n",
              "      <td>1</td>\n",
              "      <td>3</td>\n",
              "      <td>1</td>\n",
              "    </tr>\n",
              "    <tr>\n",
              "      <th>5</th>\n",
              "      <td>1</td>\n",
              "      <td>3</td>\n",
              "      <td>0</td>\n",
              "    </tr>\n",
              "    <tr>\n",
              "      <th>6</th>\n",
              "      <td>0</td>\n",
              "      <td>3</td>\n",
              "      <td>4</td>\n",
              "    </tr>\n",
              "    <tr>\n",
              "      <th>7</th>\n",
              "      <td>0</td>\n",
              "      <td>3</td>\n",
              "      <td>4</td>\n",
              "    </tr>\n",
              "    <tr>\n",
              "      <th>8</th>\n",
              "      <td>0</td>\n",
              "      <td>3</td>\n",
              "      <td>3</td>\n",
              "    </tr>\n",
              "    <tr>\n",
              "      <th>9</th>\n",
              "      <td>0</td>\n",
              "      <td>1</td>\n",
              "      <td>2</td>\n",
              "    </tr>\n",
              "    <tr>\n",
              "      <th>10</th>\n",
              "      <td>1</td>\n",
              "      <td>0</td>\n",
              "      <td>2</td>\n",
              "    </tr>\n",
              "    <tr>\n",
              "      <th>11</th>\n",
              "      <td>1</td>\n",
              "      <td>0</td>\n",
              "      <td>1</td>\n",
              "    </tr>\n",
              "    <tr>\n",
              "      <th>12</th>\n",
              "      <td>1</td>\n",
              "      <td>0</td>\n",
              "      <td>3</td>\n",
              "    </tr>\n",
              "    <tr>\n",
              "      <th>13</th>\n",
              "      <td>2</td>\n",
              "      <td>2</td>\n",
              "      <td>1</td>\n",
              "    </tr>\n",
              "    <tr>\n",
              "      <th>14</th>\n",
              "      <td>0</td>\n",
              "      <td>1</td>\n",
              "      <td>4</td>\n",
              "    </tr>\n",
              "    <tr>\n",
              "      <th>15</th>\n",
              "      <td>0</td>\n",
              "      <td>1</td>\n",
              "      <td>4</td>\n",
              "    </tr>\n",
              "    <tr>\n",
              "      <th>16</th>\n",
              "      <td>0</td>\n",
              "      <td>1</td>\n",
              "      <td>3</td>\n",
              "    </tr>\n",
              "    <tr>\n",
              "      <th>17</th>\n",
              "      <td>0</td>\n",
              "      <td>1</td>\n",
              "      <td>3</td>\n",
              "    </tr>\n",
              "    <tr>\n",
              "      <th>18</th>\n",
              "      <td>0</td>\n",
              "      <td>1</td>\n",
              "      <td>3</td>\n",
              "    </tr>\n",
              "    <tr>\n",
              "      <th>19</th>\n",
              "      <td>0</td>\n",
              "      <td>1</td>\n",
              "      <td>2</td>\n",
              "    </tr>\n",
              "  </tbody>\n",
              "</table>\n",
              "</div>\n",
              "      <button class=\"colab-df-convert\" onclick=\"convertToInteractive('df-cb9def71-8c2c-4572-995b-4195ad0fb56a')\"\n",
              "              title=\"Convert this dataframe to an interactive table.\"\n",
              "              style=\"display:none;\">\n",
              "        \n",
              "  <svg xmlns=\"http://www.w3.org/2000/svg\" height=\"24px\"viewBox=\"0 0 24 24\"\n",
              "       width=\"24px\">\n",
              "    <path d=\"M0 0h24v24H0V0z\" fill=\"none\"/>\n",
              "    <path d=\"M18.56 5.44l.94 2.06.94-2.06 2.06-.94-2.06-.94-.94-2.06-.94 2.06-2.06.94zm-11 1L8.5 8.5l.94-2.06 2.06-.94-2.06-.94L8.5 2.5l-.94 2.06-2.06.94zm10 10l.94 2.06.94-2.06 2.06-.94-2.06-.94-.94-2.06-.94 2.06-2.06.94z\"/><path d=\"M17.41 7.96l-1.37-1.37c-.4-.4-.92-.59-1.43-.59-.52 0-1.04.2-1.43.59L10.3 9.45l-7.72 7.72c-.78.78-.78 2.05 0 2.83L4 21.41c.39.39.9.59 1.41.59.51 0 1.02-.2 1.41-.59l7.78-7.78 2.81-2.81c.8-.78.8-2.07 0-2.86zM5.41 20L4 18.59l7.72-7.72 1.47 1.35L5.41 20z\"/>\n",
              "  </svg>\n",
              "      </button>\n",
              "      \n",
              "  <style>\n",
              "    .colab-df-container {\n",
              "      display:flex;\n",
              "      flex-wrap:wrap;\n",
              "      gap: 12px;\n",
              "    }\n",
              "\n",
              "    .colab-df-convert {\n",
              "      background-color: #E8F0FE;\n",
              "      border: none;\n",
              "      border-radius: 50%;\n",
              "      cursor: pointer;\n",
              "      display: none;\n",
              "      fill: #1967D2;\n",
              "      height: 32px;\n",
              "      padding: 0 0 0 0;\n",
              "      width: 32px;\n",
              "    }\n",
              "\n",
              "    .colab-df-convert:hover {\n",
              "      background-color: #E2EBFA;\n",
              "      box-shadow: 0px 1px 2px rgba(60, 64, 67, 0.3), 0px 1px 3px 1px rgba(60, 64, 67, 0.15);\n",
              "      fill: #174EA6;\n",
              "    }\n",
              "\n",
              "    [theme=dark] .colab-df-convert {\n",
              "      background-color: #3B4455;\n",
              "      fill: #D2E3FC;\n",
              "    }\n",
              "\n",
              "    [theme=dark] .colab-df-convert:hover {\n",
              "      background-color: #434B5C;\n",
              "      box-shadow: 0px 1px 3px 1px rgba(0, 0, 0, 0.15);\n",
              "      filter: drop-shadow(0px 1px 2px rgba(0, 0, 0, 0.3));\n",
              "      fill: #FFFFFF;\n",
              "    }\n",
              "  </style>\n",
              "\n",
              "      <script>\n",
              "        const buttonEl =\n",
              "          document.querySelector('#df-cb9def71-8c2c-4572-995b-4195ad0fb56a button.colab-df-convert');\n",
              "        buttonEl.style.display =\n",
              "          google.colab.kernel.accessAllowed ? 'block' : 'none';\n",
              "\n",
              "        async function convertToInteractive(key) {\n",
              "          const element = document.querySelector('#df-cb9def71-8c2c-4572-995b-4195ad0fb56a');\n",
              "          const dataTable =\n",
              "            await google.colab.kernel.invokeFunction('convertToInteractive',\n",
              "                                                     [key], {});\n",
              "          if (!dataTable) return;\n",
              "\n",
              "          const docLinkHtml = 'Like what you see? Visit the ' +\n",
              "            '<a target=\"_blank\" href=https://colab.research.google.com/notebooks/data_table.ipynb>data table notebook</a>'\n",
              "            + ' to learn more about interactive tables.';\n",
              "          element.innerHTML = '';\n",
              "          dataTable['output_type'] = 'display_data';\n",
              "          await google.colab.output.renderOutput(dataTable, element);\n",
              "          const docLink = document.createElement('div');\n",
              "          docLink.innerHTML = docLinkHtml;\n",
              "          element.appendChild(docLink);\n",
              "        }\n",
              "      </script>\n",
              "    </div>\n",
              "  </div>\n",
              "  "
            ],
            "text/plain": [
              "    Gender  Car Type  Shirt Size\n",
              "0        1         0           4\n",
              "1        1         3           3\n",
              "2        1         3           3\n",
              "3        1         3           2\n",
              "4        1         3           1\n",
              "5        1         3           0\n",
              "6        0         3           4\n",
              "7        0         3           4\n",
              "8        0         3           3\n",
              "9        0         1           2\n",
              "10       1         0           2\n",
              "11       1         0           1\n",
              "12       1         0           3\n",
              "13       2         2           1\n",
              "14       0         1           4\n",
              "15       0         1           4\n",
              "16       0         1           3\n",
              "17       0         1           3\n",
              "18       0         1           3\n",
              "19       0         1           2"
            ]
          },
          "execution_count": 52,
          "metadata": {},
          "output_type": "execute_result"
        }
      ],
      "source": [
        "X"
      ]
    },
    {
      "cell_type": "code",
      "execution_count": null,
      "metadata": {
        "colab": {
          "base_uri": "https://localhost:8080/",
          "height": 676
        },
        "id": "7pDvD1kvC0J7",
        "outputId": "60f14939-ce34-4f89-d573-bef9845e7ccd"
      },
      "outputs": [
        {
          "data": {
            "text/html": [
              "\n",
              "  <div id=\"df-135709cc-b1c0-4fad-afb7-171d5e39ce1e\">\n",
              "    <div class=\"colab-df-container\">\n",
              "      <div>\n",
              "<style scoped>\n",
              "    .dataframe tbody tr th:only-of-type {\n",
              "        vertical-align: middle;\n",
              "    }\n",
              "\n",
              "    .dataframe tbody tr th {\n",
              "        vertical-align: top;\n",
              "    }\n",
              "\n",
              "    .dataframe thead th {\n",
              "        text-align: right;\n",
              "    }\n",
              "</style>\n",
              "<table border=\"1\" class=\"dataframe\">\n",
              "  <thead>\n",
              "    <tr style=\"text-align: right;\">\n",
              "      <th></th>\n",
              "      <th>Class</th>\n",
              "    </tr>\n",
              "  </thead>\n",
              "  <tbody>\n",
              "    <tr>\n",
              "      <th>0</th>\n",
              "      <td>0</td>\n",
              "    </tr>\n",
              "    <tr>\n",
              "      <th>1</th>\n",
              "      <td>0</td>\n",
              "    </tr>\n",
              "    <tr>\n",
              "      <th>2</th>\n",
              "      <td>0</td>\n",
              "    </tr>\n",
              "    <tr>\n",
              "      <th>3</th>\n",
              "      <td>0</td>\n",
              "    </tr>\n",
              "    <tr>\n",
              "      <th>4</th>\n",
              "      <td>0</td>\n",
              "    </tr>\n",
              "    <tr>\n",
              "      <th>5</th>\n",
              "      <td>0</td>\n",
              "    </tr>\n",
              "    <tr>\n",
              "      <th>6</th>\n",
              "      <td>0</td>\n",
              "    </tr>\n",
              "    <tr>\n",
              "      <th>7</th>\n",
              "      <td>0</td>\n",
              "    </tr>\n",
              "    <tr>\n",
              "      <th>8</th>\n",
              "      <td>0</td>\n",
              "    </tr>\n",
              "    <tr>\n",
              "      <th>9</th>\n",
              "      <td>0</td>\n",
              "    </tr>\n",
              "    <tr>\n",
              "      <th>10</th>\n",
              "      <td>1</td>\n",
              "    </tr>\n",
              "    <tr>\n",
              "      <th>11</th>\n",
              "      <td>1</td>\n",
              "    </tr>\n",
              "    <tr>\n",
              "      <th>12</th>\n",
              "      <td>1</td>\n",
              "    </tr>\n",
              "    <tr>\n",
              "      <th>13</th>\n",
              "      <td>1</td>\n",
              "    </tr>\n",
              "    <tr>\n",
              "      <th>14</th>\n",
              "      <td>1</td>\n",
              "    </tr>\n",
              "    <tr>\n",
              "      <th>15</th>\n",
              "      <td>1</td>\n",
              "    </tr>\n",
              "    <tr>\n",
              "      <th>16</th>\n",
              "      <td>1</td>\n",
              "    </tr>\n",
              "    <tr>\n",
              "      <th>17</th>\n",
              "      <td>1</td>\n",
              "    </tr>\n",
              "    <tr>\n",
              "      <th>18</th>\n",
              "      <td>1</td>\n",
              "    </tr>\n",
              "    <tr>\n",
              "      <th>19</th>\n",
              "      <td>1</td>\n",
              "    </tr>\n",
              "  </tbody>\n",
              "</table>\n",
              "</div>\n",
              "      <button class=\"colab-df-convert\" onclick=\"convertToInteractive('df-135709cc-b1c0-4fad-afb7-171d5e39ce1e')\"\n",
              "              title=\"Convert this dataframe to an interactive table.\"\n",
              "              style=\"display:none;\">\n",
              "        \n",
              "  <svg xmlns=\"http://www.w3.org/2000/svg\" height=\"24px\"viewBox=\"0 0 24 24\"\n",
              "       width=\"24px\">\n",
              "    <path d=\"M0 0h24v24H0V0z\" fill=\"none\"/>\n",
              "    <path d=\"M18.56 5.44l.94 2.06.94-2.06 2.06-.94-2.06-.94-.94-2.06-.94 2.06-2.06.94zm-11 1L8.5 8.5l.94-2.06 2.06-.94-2.06-.94L8.5 2.5l-.94 2.06-2.06.94zm10 10l.94 2.06.94-2.06 2.06-.94-2.06-.94-.94-2.06-.94 2.06-2.06.94z\"/><path d=\"M17.41 7.96l-1.37-1.37c-.4-.4-.92-.59-1.43-.59-.52 0-1.04.2-1.43.59L10.3 9.45l-7.72 7.72c-.78.78-.78 2.05 0 2.83L4 21.41c.39.39.9.59 1.41.59.51 0 1.02-.2 1.41-.59l7.78-7.78 2.81-2.81c.8-.78.8-2.07 0-2.86zM5.41 20L4 18.59l7.72-7.72 1.47 1.35L5.41 20z\"/>\n",
              "  </svg>\n",
              "      </button>\n",
              "      \n",
              "  <style>\n",
              "    .colab-df-container {\n",
              "      display:flex;\n",
              "      flex-wrap:wrap;\n",
              "      gap: 12px;\n",
              "    }\n",
              "\n",
              "    .colab-df-convert {\n",
              "      background-color: #E8F0FE;\n",
              "      border: none;\n",
              "      border-radius: 50%;\n",
              "      cursor: pointer;\n",
              "      display: none;\n",
              "      fill: #1967D2;\n",
              "      height: 32px;\n",
              "      padding: 0 0 0 0;\n",
              "      width: 32px;\n",
              "    }\n",
              "\n",
              "    .colab-df-convert:hover {\n",
              "      background-color: #E2EBFA;\n",
              "      box-shadow: 0px 1px 2px rgba(60, 64, 67, 0.3), 0px 1px 3px 1px rgba(60, 64, 67, 0.15);\n",
              "      fill: #174EA6;\n",
              "    }\n",
              "\n",
              "    [theme=dark] .colab-df-convert {\n",
              "      background-color: #3B4455;\n",
              "      fill: #D2E3FC;\n",
              "    }\n",
              "\n",
              "    [theme=dark] .colab-df-convert:hover {\n",
              "      background-color: #434B5C;\n",
              "      box-shadow: 0px 1px 3px 1px rgba(0, 0, 0, 0.15);\n",
              "      filter: drop-shadow(0px 1px 2px rgba(0, 0, 0, 0.3));\n",
              "      fill: #FFFFFF;\n",
              "    }\n",
              "  </style>\n",
              "\n",
              "      <script>\n",
              "        const buttonEl =\n",
              "          document.querySelector('#df-135709cc-b1c0-4fad-afb7-171d5e39ce1e button.colab-df-convert');\n",
              "        buttonEl.style.display =\n",
              "          google.colab.kernel.accessAllowed ? 'block' : 'none';\n",
              "\n",
              "        async function convertToInteractive(key) {\n",
              "          const element = document.querySelector('#df-135709cc-b1c0-4fad-afb7-171d5e39ce1e');\n",
              "          const dataTable =\n",
              "            await google.colab.kernel.invokeFunction('convertToInteractive',\n",
              "                                                     [key], {});\n",
              "          if (!dataTable) return;\n",
              "\n",
              "          const docLinkHtml = 'Like what you see? Visit the ' +\n",
              "            '<a target=\"_blank\" href=https://colab.research.google.com/notebooks/data_table.ipynb>data table notebook</a>'\n",
              "            + ' to learn more about interactive tables.';\n",
              "          element.innerHTML = '';\n",
              "          dataTable['output_type'] = 'display_data';\n",
              "          await google.colab.output.renderOutput(dataTable, element);\n",
              "          const docLink = document.createElement('div');\n",
              "          docLink.innerHTML = docLinkHtml;\n",
              "          element.appendChild(docLink);\n",
              "        }\n",
              "      </script>\n",
              "    </div>\n",
              "  </div>\n",
              "  "
            ],
            "text/plain": [
              "    Class\n",
              "0       0\n",
              "1       0\n",
              "2       0\n",
              "3       0\n",
              "4       0\n",
              "5       0\n",
              "6       0\n",
              "7       0\n",
              "8       0\n",
              "9       0\n",
              "10      1\n",
              "11      1\n",
              "12      1\n",
              "13      1\n",
              "14      1\n",
              "15      1\n",
              "16      1\n",
              "17      1\n",
              "18      1\n",
              "19      1"
            ]
          },
          "execution_count": 53,
          "metadata": {},
          "output_type": "execute_result"
        }
      ],
      "source": [
        "Y"
      ]
    },
    {
      "cell_type": "code",
      "execution_count": null,
      "metadata": {
        "id": "RVYpyxeLC2Vc"
      },
      "outputs": [],
      "source": [
        "from sklearn.tree import DecisionTreeClassifier"
      ]
    },
    {
      "cell_type": "code",
      "execution_count": null,
      "metadata": {
        "id": "KRV7u7VSC_kD"
      },
      "outputs": [],
      "source": [
        "clf_gini = DecisionTreeClassifier(criterion = \"gini\", \n",
        "           random_state = 100, max_depth=None, min_samples_leaf=1)"
      ]
    },
    {
      "cell_type": "code",
      "execution_count": null,
      "metadata": {
        "colab": {
          "base_uri": "https://localhost:8080/",
          "height": 74
        },
        "id": "w7GgHDHOD-vz",
        "outputId": "27afa396-c328-475c-c9e3-b9558f945807"
      },
      "outputs": [
        {
          "data": {
            "text/html": [
              "<style>#sk-container-id-2 {color: black;background-color: white;}#sk-container-id-2 pre{padding: 0;}#sk-container-id-2 div.sk-toggleable {background-color: white;}#sk-container-id-2 label.sk-toggleable__label {cursor: pointer;display: block;width: 100%;margin-bottom: 0;padding: 0.3em;box-sizing: border-box;text-align: center;}#sk-container-id-2 label.sk-toggleable__label-arrow:before {content: \"▸\";float: left;margin-right: 0.25em;color: #696969;}#sk-container-id-2 label.sk-toggleable__label-arrow:hover:before {color: black;}#sk-container-id-2 div.sk-estimator:hover label.sk-toggleable__label-arrow:before {color: black;}#sk-container-id-2 div.sk-toggleable__content {max-height: 0;max-width: 0;overflow: hidden;text-align: left;background-color: #f0f8ff;}#sk-container-id-2 div.sk-toggleable__content pre {margin: 0.2em;color: black;border-radius: 0.25em;background-color: #f0f8ff;}#sk-container-id-2 input.sk-toggleable__control:checked~div.sk-toggleable__content {max-height: 200px;max-width: 100%;overflow: auto;}#sk-container-id-2 input.sk-toggleable__control:checked~label.sk-toggleable__label-arrow:before {content: \"▾\";}#sk-container-id-2 div.sk-estimator input.sk-toggleable__control:checked~label.sk-toggleable__label {background-color: #d4ebff;}#sk-container-id-2 div.sk-label input.sk-toggleable__control:checked~label.sk-toggleable__label {background-color: #d4ebff;}#sk-container-id-2 input.sk-hidden--visually {border: 0;clip: rect(1px 1px 1px 1px);clip: rect(1px, 1px, 1px, 1px);height: 1px;margin: -1px;overflow: hidden;padding: 0;position: absolute;width: 1px;}#sk-container-id-2 div.sk-estimator {font-family: monospace;background-color: #f0f8ff;border: 1px dotted black;border-radius: 0.25em;box-sizing: border-box;margin-bottom: 0.5em;}#sk-container-id-2 div.sk-estimator:hover {background-color: #d4ebff;}#sk-container-id-2 div.sk-parallel-item::after {content: \"\";width: 100%;border-bottom: 1px solid gray;flex-grow: 1;}#sk-container-id-2 div.sk-label:hover label.sk-toggleable__label {background-color: #d4ebff;}#sk-container-id-2 div.sk-serial::before {content: \"\";position: absolute;border-left: 1px solid gray;box-sizing: border-box;top: 0;bottom: 0;left: 50%;z-index: 0;}#sk-container-id-2 div.sk-serial {display: flex;flex-direction: column;align-items: center;background-color: white;padding-right: 0.2em;padding-left: 0.2em;position: relative;}#sk-container-id-2 div.sk-item {position: relative;z-index: 1;}#sk-container-id-2 div.sk-parallel {display: flex;align-items: stretch;justify-content: center;background-color: white;position: relative;}#sk-container-id-2 div.sk-item::before, #sk-container-id-2 div.sk-parallel-item::before {content: \"\";position: absolute;border-left: 1px solid gray;box-sizing: border-box;top: 0;bottom: 0;left: 50%;z-index: -1;}#sk-container-id-2 div.sk-parallel-item {display: flex;flex-direction: column;z-index: 1;position: relative;background-color: white;}#sk-container-id-2 div.sk-parallel-item:first-child::after {align-self: flex-end;width: 50%;}#sk-container-id-2 div.sk-parallel-item:last-child::after {align-self: flex-start;width: 50%;}#sk-container-id-2 div.sk-parallel-item:only-child::after {width: 0;}#sk-container-id-2 div.sk-dashed-wrapped {border: 1px dashed gray;margin: 0 0.4em 0.5em 0.4em;box-sizing: border-box;padding-bottom: 0.4em;background-color: white;}#sk-container-id-2 div.sk-label label {font-family: monospace;font-weight: bold;display: inline-block;line-height: 1.2em;}#sk-container-id-2 div.sk-label-container {text-align: center;}#sk-container-id-2 div.sk-container {/* jupyter's `normalize.less` sets `[hidden] { display: none; }` but bootstrap.min.css set `[hidden] { display: none !important; }` so we also need the `!important` here to be able to override the default hidden behavior on the sphinx rendered scikit-learn.org. See: https://github.com/scikit-learn/scikit-learn/issues/21755 */display: inline-block !important;position: relative;}#sk-container-id-2 div.sk-text-repr-fallback {display: none;}</style><div id=\"sk-container-id-2\" class=\"sk-top-container\"><div class=\"sk-text-repr-fallback\"><pre>DecisionTreeClassifier(random_state=100)</pre><b>In a Jupyter environment, please rerun this cell to show the HTML representation or trust the notebook. <br />On GitHub, the HTML representation is unable to render, please try loading this page with nbviewer.org.</b></div><div class=\"sk-container\" hidden><div class=\"sk-item\"><div class=\"sk-estimator sk-toggleable\"><input class=\"sk-toggleable__control sk-hidden--visually\" id=\"sk-estimator-id-2\" type=\"checkbox\" checked><label for=\"sk-estimator-id-2\" class=\"sk-toggleable__label sk-toggleable__label-arrow\">DecisionTreeClassifier</label><div class=\"sk-toggleable__content\"><pre>DecisionTreeClassifier(random_state=100)</pre></div></div></div></div></div>"
            ],
            "text/plain": [
              "DecisionTreeClassifier(random_state=100)"
            ]
          },
          "execution_count": 65,
          "metadata": {},
          "output_type": "execute_result"
        }
      ],
      "source": [
        "clf_gini.fit(X,Y)"
      ]
    },
    {
      "cell_type": "code",
      "execution_count": null,
      "metadata": {
        "id": "41pJ_E9eEF96"
      },
      "outputs": [],
      "source": [
        "from sklearn import tree"
      ]
    },
    {
      "cell_type": "code",
      "execution_count": null,
      "metadata": {
        "colab": {
          "base_uri": "https://localhost:8080/",
          "height": 597
        },
        "id": "JLGh3QfQEIri",
        "outputId": "786a300a-520d-449f-d03c-2cb83f5b6d8a"
      },
      "outputs": [
        {
          "data": {
            "text/plain": [
              "[Text(0.6666666666666666, 0.9, 'x[1] <= 2.5\\ngini = 0.5\\nsamples = 20\\nvalue = [10, 10]'),\n",
              " Text(0.5555555555555556, 0.7, 'x[2] <= 3.5\\ngini = 0.278\\nsamples = 12\\nvalue = [2, 10]'),\n",
              " Text(0.3333333333333333, 0.5, 'x[2] <= 2.5\\ngini = 0.198\\nsamples = 9\\nvalue = [1, 8]'),\n",
              " Text(0.2222222222222222, 0.3, 'x[0] <= 0.5\\ngini = 0.32\\nsamples = 5\\nvalue = [1, 4]'),\n",
              " Text(0.1111111111111111, 0.1, 'gini = 0.5\\nsamples = 2\\nvalue = [1, 1]'),\n",
              " Text(0.3333333333333333, 0.1, 'gini = 0.0\\nsamples = 3\\nvalue = [0, 3]'),\n",
              " Text(0.4444444444444444, 0.3, 'gini = 0.0\\nsamples = 4\\nvalue = [0, 4]'),\n",
              " Text(0.7777777777777778, 0.5, 'x[0] <= 0.5\\ngini = 0.444\\nsamples = 3\\nvalue = [1, 2]'),\n",
              " Text(0.6666666666666666, 0.3, 'gini = 0.0\\nsamples = 2\\nvalue = [0, 2]'),\n",
              " Text(0.8888888888888888, 0.3, 'gini = 0.0\\nsamples = 1\\nvalue = [1, 0]'),\n",
              " Text(0.7777777777777778, 0.7, 'gini = 0.0\\nsamples = 8\\nvalue = [8, 0]')]"
            ]
          },
          "execution_count": 67,
          "metadata": {},
          "output_type": "execute_result"
        },
        {
          "data": {
            "image/png": "[encoded data removed]",
            "text/plain": [
              "<Figure size 640x480 with 1 Axes>"
            ]
          },
          "metadata": {},
          "output_type": "display_data"
        }
      ],
      "source": [
        "tree.plot_tree(clf_gini)"
      ]
    },
    {
      "cell_type": "code",
      "execution_count": null,
      "metadata": {
        "id": "s9uoXQI7E3KM"
      },
      "outputs": [],
      "source": [
        "clf_entropy = DecisionTreeClassifier(criterion = \"gini\", \n",
        "           random_state = 100, max_depth=None, min_samples_leaf=1)"
      ]
    },
    {
      "cell_type": "code",
      "execution_count": null,
      "metadata": {
        "colab": {
          "base_uri": "https://localhost:8080/",
          "height": 74
        },
        "id": "uUTNVUtbE_dh",
        "outputId": "b07896ad-d820-4bd2-f95e-fcfd902022f5"
      },
      "outputs": [
        {
          "data": {
            "text/html": [
              "<style>#sk-container-id-3 {color: black;background-color: white;}#sk-container-id-3 pre{padding: 0;}#sk-container-id-3 div.sk-toggleable {background-color: white;}#sk-container-id-3 label.sk-toggleable__label {cursor: pointer;display: block;width: 100%;margin-bottom: 0;padding: 0.3em;box-sizing: border-box;text-align: center;}#sk-container-id-3 label.sk-toggleable__label-arrow:before {content: \"▸\";float: left;margin-right: 0.25em;color: #696969;}#sk-container-id-3 label.sk-toggleable__label-arrow:hover:before {color: black;}#sk-container-id-3 div.sk-estimator:hover label.sk-toggleable__label-arrow:before {color: black;}#sk-container-id-3 div.sk-toggleable__content {max-height: 0;max-width: 0;overflow: hidden;text-align: left;background-color: #f0f8ff;}#sk-container-id-3 div.sk-toggleable__content pre {margin: 0.2em;color: black;border-radius: 0.25em;background-color: #f0f8ff;}#sk-container-id-3 input.sk-toggleable__control:checked~div.sk-toggleable__content {max-height: 200px;max-width: 100%;overflow: auto;}#sk-container-id-3 input.sk-toggleable__control:checked~label.sk-toggleable__label-arrow:before {content: \"▾\";}#sk-container-id-3 div.sk-estimator input.sk-toggleable__control:checked~label.sk-toggleable__label {background-color: #d4ebff;}#sk-container-id-3 div.sk-label input.sk-toggleable__control:checked~label.sk-toggleable__label {background-color: #d4ebff;}#sk-container-id-3 input.sk-hidden--visually {border: 0;clip: rect(1px 1px 1px 1px);clip: rect(1px, 1px, 1px, 1px);height: 1px;margin: -1px;overflow: hidden;padding: 0;position: absolute;width: 1px;}#sk-container-id-3 div.sk-estimator {font-family: monospace;background-color: #f0f8ff;border: 1px dotted black;border-radius: 0.25em;box-sizing: border-box;margin-bottom: 0.5em;}#sk-container-id-3 div.sk-estimator:hover {background-color: #d4ebff;}#sk-container-id-3 div.sk-parallel-item::after {content: \"\";width: 100%;border-bottom: 1px solid gray;flex-grow: 1;}#sk-container-id-3 div.sk-label:hover label.sk-toggleable__label {background-color: #d4ebff;}#sk-container-id-3 div.sk-serial::before {content: \"\";position: absolute;border-left: 1px solid gray;box-sizing: border-box;top: 0;bottom: 0;left: 50%;z-index: 0;}#sk-container-id-3 div.sk-serial {display: flex;flex-direction: column;align-items: center;background-color: white;padding-right: 0.2em;padding-left: 0.2em;position: relative;}#sk-container-id-3 div.sk-item {position: relative;z-index: 1;}#sk-container-id-3 div.sk-parallel {display: flex;align-items: stretch;justify-content: center;background-color: white;position: relative;}#sk-container-id-3 div.sk-item::before, #sk-container-id-3 div.sk-parallel-item::before {content: \"\";position: absolute;border-left: 1px solid gray;box-sizing: border-box;top: 0;bottom: 0;left: 50%;z-index: -1;}#sk-container-id-3 div.sk-parallel-item {display: flex;flex-direction: column;z-index: 1;position: relative;background-color: white;}#sk-container-id-3 div.sk-parallel-item:first-child::after {align-self: flex-end;width: 50%;}#sk-container-id-3 div.sk-parallel-item:last-child::after {align-self: flex-start;width: 50%;}#sk-container-id-3 div.sk-parallel-item:only-child::after {width: 0;}#sk-container-id-3 div.sk-dashed-wrapped {border: 1px dashed gray;margin: 0 0.4em 0.5em 0.4em;box-sizing: border-box;padding-bottom: 0.4em;background-color: white;}#sk-container-id-3 div.sk-label label {font-family: monospace;font-weight: bold;display: inline-block;line-height: 1.2em;}#sk-container-id-3 div.sk-label-container {text-align: center;}#sk-container-id-3 div.sk-container {/* jupyter's `normalize.less` sets `[hidden] { display: none; }` but bootstrap.min.css set `[hidden] { display: none !important; }` so we also need the `!important` here to be able to override the default hidden behavior on the sphinx rendered scikit-learn.org. See: https://github.com/scikit-learn/scikit-learn/issues/21755 */display: inline-block !important;position: relative;}#sk-container-id-3 div.sk-text-repr-fallback {display: none;}</style><div id=\"sk-container-id-3\" class=\"sk-top-container\"><div class=\"sk-text-repr-fallback\"><pre>DecisionTreeClassifier(random_state=100)</pre><b>In a Jupyter environment, please rerun this cell to show the HTML representation or trust the notebook. <br />On GitHub, the HTML representation is unable to render, please try loading this page with nbviewer.org.</b></div><div class=\"sk-container\" hidden><div class=\"sk-item\"><div class=\"sk-estimator sk-toggleable\"><input class=\"sk-toggleable__control sk-hidden--visually\" id=\"sk-estimator-id-3\" type=\"checkbox\" checked><label for=\"sk-estimator-id-3\" class=\"sk-toggleable__label sk-toggleable__label-arrow\">DecisionTreeClassifier</label><div class=\"sk-toggleable__content\"><pre>DecisionTreeClassifier(random_state=100)</pre></div></div></div></div></div>"
            ],
            "text/plain": [
              "DecisionTreeClassifier(random_state=100)"
            ]
          },
          "execution_count": 69,
          "metadata": {},
          "output_type": "execute_result"
        }
      ],
      "source": [
        "clf_entropy.fit(X,Y)"
      ]
    },
    {
      "cell_type": "code",
      "execution_count": null,
      "metadata": {
        "colab": {
          "base_uri": "https://localhost:8080/",
          "height": 597
        },
        "id": "_VLdwTgDFCaX",
        "outputId": "6790ce2f-58ad-4879-cf43-7ce7e610d599"
      },
      "outputs": [
        {
          "data": {
            "text/plain": [
              "[Text(0.6666666666666666, 0.9, 'x[1] <= 2.5\\ngini = 0.5\\nsamples = 20\\nvalue = [10, 10]'),\n",
              " Text(0.5555555555555556, 0.7, 'x[2] <= 3.5\\ngini = 0.278\\nsamples = 12\\nvalue = [2, 10]'),\n",
              " Text(0.3333333333333333, 0.5, 'x[2] <= 2.5\\ngini = 0.198\\nsamples = 9\\nvalue = [1, 8]'),\n",
              " Text(0.2222222222222222, 0.3, 'x[0] <= 0.5\\ngini = 0.32\\nsamples = 5\\nvalue = [1, 4]'),\n",
              " Text(0.1111111111111111, 0.1, 'gini = 0.5\\nsamples = 2\\nvalue = [1, 1]'),\n",
              " Text(0.3333333333333333, 0.1, 'gini = 0.0\\nsamples = 3\\nvalue = [0, 3]'),\n",
              " Text(0.4444444444444444, 0.3, 'gini = 0.0\\nsamples = 4\\nvalue = [0, 4]'),\n",
              " Text(0.7777777777777778, 0.5, 'x[0] <= 0.5\\ngini = 0.444\\nsamples = 3\\nvalue = [1, 2]'),\n",
              " Text(0.6666666666666666, 0.3, 'gini = 0.0\\nsamples = 2\\nvalue = [0, 2]'),\n",
              " Text(0.8888888888888888, 0.3, 'gini = 0.0\\nsamples = 1\\nvalue = [1, 0]'),\n",
              " Text(0.7777777777777778, 0.7, 'gini = 0.0\\nsamples = 8\\nvalue = [8, 0]')]"
            ]
          },
          "execution_count": 70,
          "metadata": {},
          "output_type": "execute_result"
        },
        {
          "data": {
            "image/png": "[encoded data removed]",
            "text/plain": [
              "<Figure size 640x480 with 1 Axes>"
            ]
          },
          "metadata": {},
          "output_type": "display_data"
        }
      ],
      "source": [
        "tree.plot_tree(clf_entropy)"
      ]
    },
    {
      "cell_type": "code",
      "execution_count": null,
      "metadata": {
        "id": "OOpEmg3XITTL"
      },
      "outputs": [],
      "source": [
        "dataset = pd.read_csv('/content/diabetes_1.csv')"
      ]
    },
    {
      "cell_type": "code",
      "execution_count": null,
      "metadata": {
        "colab": {
          "base_uri": "https://localhost:8080/",
          "height": 206
        },
        "id": "Xq7tuXsZIcDK",
        "outputId": "e02ad4ae-7512-4c48-d227-c68a1853e76f"
      },
      "outputs": [
        {
          "data": {
            "text/html": [
              "\n",
              "  <div id=\"df-14d9b895-7b7a-4693-a8f0-22cb4072b001\">\n",
              "    <div class=\"colab-df-container\">\n",
              "      <div>\n",
              "<style scoped>\n",
              "    .dataframe tbody tr th:only-of-type {\n",
              "        vertical-align: middle;\n",
              "    }\n",
              "\n",
              "    .dataframe tbody tr th {\n",
              "        vertical-align: top;\n",
              "    }\n",
              "\n",
              "    .dataframe thead th {\n",
              "        text-align: right;\n",
              "    }\n",
              "</style>\n",
              "<table border=\"1\" class=\"dataframe\">\n",
              "  <thead>\n",
              "    <tr style=\"text-align: right;\">\n",
              "      <th></th>\n",
              "      <th>Pregnancies</th>\n",
              "      <th>Glucose</th>\n",
              "      <th>BloodPressure</th>\n",
              "      <th>SkinThickness</th>\n",
              "      <th>Insulin</th>\n",
              "      <th>BMI</th>\n",
              "      <th>DiabetesPedigreeFunction</th>\n",
              "      <th>Age</th>\n",
              "      <th>Outcome</th>\n",
              "    </tr>\n",
              "  </thead>\n",
              "  <tbody>\n",
              "    <tr>\n",
              "      <th>0</th>\n",
              "      <td>6</td>\n",
              "      <td>148</td>\n",
              "      <td>72</td>\n",
              "      <td>35</td>\n",
              "      <td>0</td>\n",
              "      <td>33.6</td>\n",
              "      <td>0.627</td>\n",
              "      <td>50</td>\n",
              "      <td>1</td>\n",
              "    </tr>\n",
              "    <tr>\n",
              "      <th>1</th>\n",
              "      <td>1</td>\n",
              "      <td>85</td>\n",
              "      <td>66</td>\n",
              "      <td>29</td>\n",
              "      <td>0</td>\n",
              "      <td>26.6</td>\n",
              "      <td>0.351</td>\n",
              "      <td>31</td>\n",
              "      <td>0</td>\n",
              "    </tr>\n",
              "    <tr>\n",
              "      <th>2</th>\n",
              "      <td>8</td>\n",
              "      <td>183</td>\n",
              "      <td>64</td>\n",
              "      <td>0</td>\n",
              "      <td>0</td>\n",
              "      <td>23.3</td>\n",
              "      <td>0.672</td>\n",
              "      <td>32</td>\n",
              "      <td>1</td>\n",
              "    </tr>\n",
              "    <tr>\n",
              "      <th>3</th>\n",
              "      <td>1</td>\n",
              "      <td>89</td>\n",
              "      <td>66</td>\n",
              "      <td>23</td>\n",
              "      <td>94</td>\n",
              "      <td>28.1</td>\n",
              "      <td>0.167</td>\n",
              "      <td>21</td>\n",
              "      <td>0</td>\n",
              "    </tr>\n",
              "    <tr>\n",
              "      <th>4</th>\n",
              "      <td>0</td>\n",
              "      <td>137</td>\n",
              "      <td>40</td>\n",
              "      <td>35</td>\n",
              "      <td>168</td>\n",
              "      <td>43.1</td>\n",
              "      <td>2.288</td>\n",
              "      <td>33</td>\n",
              "      <td>1</td>\n",
              "    </tr>\n",
              "  </tbody>\n",
              "</table>\n",
              "</div>\n",
              "      <button class=\"colab-df-convert\" onclick=\"convertToInteractive('df-14d9b895-7b7a-4693-a8f0-22cb4072b001')\"\n",
              "              title=\"Convert this dataframe to an interactive table.\"\n",
              "              style=\"display:none;\">\n",
              "        \n",
              "  <svg xmlns=\"http://www.w3.org/2000/svg\" height=\"24px\"viewBox=\"0 0 24 24\"\n",
              "       width=\"24px\">\n",
              "    <path d=\"M0 0h24v24H0V0z\" fill=\"none\"/>\n",
              "    <path d=\"M18.56 5.44l.94 2.06.94-2.06 2.06-.94-2.06-.94-.94-2.06-.94 2.06-2.06.94zm-11 1L8.5 8.5l.94-2.06 2.06-.94-2.06-.94L8.5 2.5l-.94 2.06-2.06.94zm10 10l.94 2.06.94-2.06 2.06-.94-2.06-.94-.94-2.06-.94 2.06-2.06.94z\"/><path d=\"M17.41 7.96l-1.37-1.37c-.4-.4-.92-.59-1.43-.59-.52 0-1.04.2-1.43.59L10.3 9.45l-7.72 7.72c-.78.78-.78 2.05 0 2.83L4 21.41c.39.39.9.59 1.41.59.51 0 1.02-.2 1.41-.59l7.78-7.78 2.81-2.81c.8-.78.8-2.07 0-2.86zM5.41 20L4 18.59l7.72-7.72 1.47 1.35L5.41 20z\"/>\n",
              "  </svg>\n",
              "      </button>\n",
              "      \n",
              "  <style>\n",
              "    .colab-df-container {\n",
              "      display:flex;\n",
              "      flex-wrap:wrap;\n",
              "      gap: 12px;\n",
              "    }\n",
              "\n",
              "    .colab-df-convert {\n",
              "      background-color: #E8F0FE;\n",
              "      border: none;\n",
              "      border-radius: 50%;\n",
              "      cursor: pointer;\n",
              "      display: none;\n",
              "      fill: #1967D2;\n",
              "      height: 32px;\n",
              "      padding: 0 0 0 0;\n",
              "      width: 32px;\n",
              "    }\n",
              "\n",
              "    .colab-df-convert:hover {\n",
              "      background-color: #E2EBFA;\n",
              "      box-shadow: 0px 1px 2px rgba(60, 64, 67, 0.3), 0px 1px 3px 1px rgba(60, 64, 67, 0.15);\n",
              "      fill: #174EA6;\n",
              "    }\n",
              "\n",
              "    [theme=dark] .colab-df-convert {\n",
              "      background-color: #3B4455;\n",
              "      fill: #D2E3FC;\n",
              "    }\n",
              "\n",
              "    [theme=dark] .colab-df-convert:hover {\n",
              "      background-color: #434B5C;\n",
              "      box-shadow: 0px 1px 3px 1px rgba(0, 0, 0, 0.15);\n",
              "      filter: drop-shadow(0px 1px 2px rgba(0, 0, 0, 0.3));\n",
              "      fill: #FFFFFF;\n",
              "    }\n",
              "  </style>\n",
              "\n",
              "      <script>\n",
              "        const buttonEl =\n",
              "          document.querySelector('#df-14d9b895-7b7a-4693-a8f0-22cb4072b001 button.colab-df-convert');\n",
              "        buttonEl.style.display =\n",
              "          google.colab.kernel.accessAllowed ? 'block' : 'none';\n",
              "\n",
              "        async function convertToInteractive(key) {\n",
              "          const element = document.querySelector('#df-14d9b895-7b7a-4693-a8f0-22cb4072b001');\n",
              "          const dataTable =\n",
              "            await google.colab.kernel.invokeFunction('convertToInteractive',\n",
              "                                                     [key], {});\n",
              "          if (!dataTable) return;\n",
              "\n",
              "          const docLinkHtml = 'Like what you see? Visit the ' +\n",
              "            '<a target=\"_blank\" href=https://colab.research.google.com/notebooks/data_table.ipynb>data table notebook</a>'\n",
              "            + ' to learn more about interactive tables.';\n",
              "          element.innerHTML = '';\n",
              "          dataTable['output_type'] = 'display_data';\n",
              "          await google.colab.output.renderOutput(dataTable, element);\n",
              "          const docLink = document.createElement('div');\n",
              "          docLink.innerHTML = docLinkHtml;\n",
              "          element.appendChild(docLink);\n",
              "        }\n",
              "      </script>\n",
              "    </div>\n",
              "  </div>\n",
              "  "
            ],
            "text/plain": [
              "   Pregnancies  Glucose  BloodPressure  SkinThickness  Insulin   BMI  \\\n",
              "0            6      148             72             35        0  33.6   \n",
              "1            1       85             66             29        0  26.6   \n",
              "2            8      183             64              0        0  23.3   \n",
              "3            1       89             66             23       94  28.1   \n",
              "4            0      137             40             35      168  43.1   \n",
              "\n",
              "   DiabetesPedigreeFunction  Age  Outcome  \n",
              "0                     0.627   50        1  \n",
              "1                     0.351   31        0  \n",
              "2                     0.672   32        1  \n",
              "3                     0.167   21        0  \n",
              "4                     2.288   33        1  "
            ]
          },
          "execution_count": 72,
          "metadata": {},
          "output_type": "execute_result"
        }
      ],
      "source": [
        "dataset.head()"
      ]
    },
    {
      "cell_type": "code",
      "execution_count": null,
      "metadata": {
        "colab": {
          "base_uri": "https://localhost:8080/"
        },
        "id": "jRN7oVi2Igi7",
        "outputId": "c83a34db-8cb0-43fd-d4e7-9f4cd7f98c73"
      },
      "outputs": [
        {
          "data": {
            "text/plain": [
              "(768, 9)"
            ]
          },
          "execution_count": 73,
          "metadata": {},
          "output_type": "execute_result"
        }
      ],
      "source": [
        "dataset.shape"
      ]
    },
    {
      "cell_type": "code",
      "execution_count": null,
      "metadata": {
        "id": "Jd6t_wOOImm6"
      },
      "outputs": [],
      "source": [
        "X1=dataset.drop('Outcome', axis=1)"
      ]
    },
    {
      "cell_type": "code",
      "execution_count": null,
      "metadata": {
        "colab": {
          "base_uri": "https://localhost:8080/",
          "height": 206
        },
        "id": "elgUdfHWIuQA",
        "outputId": "5934eee7-80c1-46e6-c544-3dd6a89f524e"
      },
      "outputs": [
        {
          "data": {
            "text/html": [
              "\n",
              "  <div id=\"df-be3aa41f-833b-4efd-ad68-2d7d34efcaf8\">\n",
              "    <div class=\"colab-df-container\">\n",
              "      <div>\n",
              "<style scoped>\n",
              "    .dataframe tbody tr th:only-of-type {\n",
              "        vertical-align: middle;\n",
              "    }\n",
              "\n",
              "    .dataframe tbody tr th {\n",
              "        vertical-align: top;\n",
              "    }\n",
              "\n",
              "    .dataframe thead th {\n",
              "        text-align: right;\n",
              "    }\n",
              "</style>\n",
              "<table border=\"1\" class=\"dataframe\">\n",
              "  <thead>\n",
              "    <tr style=\"text-align: right;\">\n",
              "      <th></th>\n",
              "      <th>Pregnancies</th>\n",
              "      <th>Glucose</th>\n",
              "      <th>BloodPressure</th>\n",
              "      <th>SkinThickness</th>\n",
              "      <th>Insulin</th>\n",
              "      <th>BMI</th>\n",
              "      <th>DiabetesPedigreeFunction</th>\n",
              "      <th>Age</th>\n",
              "    </tr>\n",
              "  </thead>\n",
              "  <tbody>\n",
              "    <tr>\n",
              "      <th>0</th>\n",
              "      <td>6</td>\n",
              "      <td>148</td>\n",
              "      <td>72</td>\n",
              "      <td>35</td>\n",
              "      <td>0</td>\n",
              "      <td>33.6</td>\n",
              "      <td>0.627</td>\n",
              "      <td>50</td>\n",
              "    </tr>\n",
              "    <tr>\n",
              "      <th>1</th>\n",
              "      <td>1</td>\n",
              "      <td>85</td>\n",
              "      <td>66</td>\n",
              "      <td>29</td>\n",
              "      <td>0</td>\n",
              "      <td>26.6</td>\n",
              "      <td>0.351</td>\n",
              "      <td>31</td>\n",
              "    </tr>\n",
              "    <tr>\n",
              "      <th>2</th>\n",
              "      <td>8</td>\n",
              "      <td>183</td>\n",
              "      <td>64</td>\n",
              "      <td>0</td>\n",
              "      <td>0</td>\n",
              "      <td>23.3</td>\n",
              "      <td>0.672</td>\n",
              "      <td>32</td>\n",
              "    </tr>\n",
              "    <tr>\n",
              "      <th>3</th>\n",
              "      <td>1</td>\n",
              "      <td>89</td>\n",
              "      <td>66</td>\n",
              "      <td>23</td>\n",
              "      <td>94</td>\n",
              "      <td>28.1</td>\n",
              "      <td>0.167</td>\n",
              "      <td>21</td>\n",
              "    </tr>\n",
              "    <tr>\n",
              "      <th>4</th>\n",
              "      <td>0</td>\n",
              "      <td>137</td>\n",
              "      <td>40</td>\n",
              "      <td>35</td>\n",
              "      <td>168</td>\n",
              "      <td>43.1</td>\n",
              "      <td>2.288</td>\n",
              "      <td>33</td>\n",
              "    </tr>\n",
              "  </tbody>\n",
              "</table>\n",
              "</div>\n",
              "      <button class=\"colab-df-convert\" onclick=\"convertToInteractive('df-be3aa41f-833b-4efd-ad68-2d7d34efcaf8')\"\n",
              "              title=\"Convert this dataframe to an interactive table.\"\n",
              "              style=\"display:none;\">\n",
              "        \n",
              "  <svg xmlns=\"http://www.w3.org/2000/svg\" height=\"24px\"viewBox=\"0 0 24 24\"\n",
              "       width=\"24px\">\n",
              "    <path d=\"M0 0h24v24H0V0z\" fill=\"none\"/>\n",
              "    <path d=\"M18.56 5.44l.94 2.06.94-2.06 2.06-.94-2.06-.94-.94-2.06-.94 2.06-2.06.94zm-11 1L8.5 8.5l.94-2.06 2.06-.94-2.06-.94L8.5 2.5l-.94 2.06-2.06.94zm10 10l.94 2.06.94-2.06 2.06-.94-2.06-.94-.94-2.06-.94 2.06-2.06.94z\"/><path d=\"M17.41 7.96l-1.37-1.37c-.4-.4-.92-.59-1.43-.59-.52 0-1.04.2-1.43.59L10.3 9.45l-7.72 7.72c-.78.78-.78 2.05 0 2.83L4 21.41c.39.39.9.59 1.41.59.51 0 1.02-.2 1.41-.59l7.78-7.78 2.81-2.81c.8-.78.8-2.07 0-2.86zM5.41 20L4 18.59l7.72-7.72 1.47 1.35L5.41 20z\"/>\n",
              "  </svg>\n",
              "      </button>\n",
              "      \n",
              "  <style>\n",
              "    .colab-df-container {\n",
              "      display:flex;\n",
              "      flex-wrap:wrap;\n",
              "      gap: 12px;\n",
              "    }\n",
              "\n",
              "    .colab-df-convert {\n",
              "      background-color: #E8F0FE;\n",
              "      border: none;\n",
              "      border-radius: 50%;\n",
              "      cursor: pointer;\n",
              "      display: none;\n",
              "      fill: #1967D2;\n",
              "      height: 32px;\n",
              "      padding: 0 0 0 0;\n",
              "      width: 32px;\n",
              "    }\n",
              "\n",
              "    .colab-df-convert:hover {\n",
              "      background-color: #E2EBFA;\n",
              "      box-shadow: 0px 1px 2px rgba(60, 64, 67, 0.3), 0px 1px 3px 1px rgba(60, 64, 67, 0.15);\n",
              "      fill: #174EA6;\n",
              "    }\n",
              "\n",
              "    [theme=dark] .colab-df-convert {\n",
              "      background-color: #3B4455;\n",
              "      fill: #D2E3FC;\n",
              "    }\n",
              "\n",
              "    [theme=dark] .colab-df-convert:hover {\n",
              "      background-color: #434B5C;\n",
              "      box-shadow: 0px 1px 3px 1px rgba(0, 0, 0, 0.15);\n",
              "      filter: drop-shadow(0px 1px 2px rgba(0, 0, 0, 0.3));\n",
              "      fill: #FFFFFF;\n",
              "    }\n",
              "  </style>\n",
              "\n",
              "      <script>\n",
              "        const buttonEl =\n",
              "          document.querySelector('#df-be3aa41f-833b-4efd-ad68-2d7d34efcaf8 button.colab-df-convert');\n",
              "        buttonEl.style.display =\n",
              "          google.colab.kernel.accessAllowed ? 'block' : 'none';\n",
              "\n",
              "        async function convertToInteractive(key) {\n",
              "          const element = document.querySelector('#df-be3aa41f-833b-4efd-ad68-2d7d34efcaf8');\n",
              "          const dataTable =\n",
              "            await google.colab.kernel.invokeFunction('convertToInteractive',\n",
              "                                                     [key], {});\n",
              "          if (!dataTable) return;\n",
              "\n",
              "          const docLinkHtml = 'Like what you see? Visit the ' +\n",
              "            '<a target=\"_blank\" href=https://colab.research.google.com/notebooks/data_table.ipynb>data table notebook</a>'\n",
              "            + ' to learn more about interactive tables.';\n",
              "          element.innerHTML = '';\n",
              "          dataTable['output_type'] = 'display_data';\n",
              "          await google.colab.output.renderOutput(dataTable, element);\n",
              "          const docLink = document.createElement('div');\n",
              "          docLink.innerHTML = docLinkHtml;\n",
              "          element.appendChild(docLink);\n",
              "        }\n",
              "      </script>\n",
              "    </div>\n",
              "  </div>\n",
              "  "
            ],
            "text/plain": [
              "   Pregnancies  Glucose  BloodPressure  SkinThickness  Insulin   BMI  \\\n",
              "0            6      148             72             35        0  33.6   \n",
              "1            1       85             66             29        0  26.6   \n",
              "2            8      183             64              0        0  23.3   \n",
              "3            1       89             66             23       94  28.1   \n",
              "4            0      137             40             35      168  43.1   \n",
              "\n",
              "   DiabetesPedigreeFunction  Age  \n",
              "0                     0.627   50  \n",
              "1                     0.351   31  \n",
              "2                     0.672   32  \n",
              "3                     0.167   21  \n",
              "4                     2.288   33  "
            ]
          },
          "execution_count": 77,
          "metadata": {},
          "output_type": "execute_result"
        }
      ],
      "source": [
        "X1.head()"
      ]
    },
    {
      "cell_type": "code",
      "execution_count": null,
      "metadata": {
        "id": "tMkZapW0Ixpx"
      },
      "outputs": [],
      "source": [
        "Y1=dataset['Outcome']"
      ]
    },
    {
      "cell_type": "code",
      "execution_count": null,
      "metadata": {
        "id": "BmgL0sLBJiJb"
      },
      "outputs": [],
      "source": [
        "from sklearn.model_selection import train_test_split\n",
        "X_train, X_test, Y_train, Y_test = train_test_split(X1, Y1, test_size = 0.3, random_state = 0)"
      ]
    },
    {
      "cell_type": "code",
      "execution_count": null,
      "metadata": {
        "id": "64M-fR_rKe7e"
      },
      "outputs": [],
      "source": [
        "model_gini=DecisionTreeClassifier(criterion = \"entropy\",\n",
        "           random_state =100,max_depth=None, min_samples_leaf=1)"
      ]
    },
    {
      "cell_type": "code",
      "execution_count": null,
      "metadata": {
        "colab": {
          "base_uri": "https://localhost:8080/",
          "height": 74
        },
        "id": "89vnWQEJKwl6",
        "outputId": "d9380888-6101-4bd7-a347-da58a7afc822"
      },
      "outputs": [
        {
          "data": {
            "text/html": [
              "<style>#sk-container-id-4 {color: black;background-color: white;}#sk-container-id-4 pre{padding: 0;}#sk-container-id-4 div.sk-toggleable {background-color: white;}#sk-container-id-4 label.sk-toggleable__label {cursor: pointer;display: block;width: 100%;margin-bottom: 0;padding: 0.3em;box-sizing: border-box;text-align: center;}#sk-container-id-4 label.sk-toggleable__label-arrow:before {content: \"▸\";float: left;margin-right: 0.25em;color: #696969;}#sk-container-id-4 label.sk-toggleable__label-arrow:hover:before {color: black;}#sk-container-id-4 div.sk-estimator:hover label.sk-toggleable__label-arrow:before {color: black;}#sk-container-id-4 div.sk-toggleable__content {max-height: 0;max-width: 0;overflow: hidden;text-align: left;background-color: #f0f8ff;}#sk-container-id-4 div.sk-toggleable__content pre {margin: 0.2em;color: black;border-radius: 0.25em;background-color: #f0f8ff;}#sk-container-id-4 input.sk-toggleable__control:checked~div.sk-toggleable__content {max-height: 200px;max-width: 100%;overflow: auto;}#sk-container-id-4 input.sk-toggleable__control:checked~label.sk-toggleable__label-arrow:before {content: \"▾\";}#sk-container-id-4 div.sk-estimator input.sk-toggleable__control:checked~label.sk-toggleable__label {background-color: #d4ebff;}#sk-container-id-4 div.sk-label input.sk-toggleable__control:checked~label.sk-toggleable__label {background-color: #d4ebff;}#sk-container-id-4 input.sk-hidden--visually {border: 0;clip: rect(1px 1px 1px 1px);clip: rect(1px, 1px, 1px, 1px);height: 1px;margin: -1px;overflow: hidden;padding: 0;position: absolute;width: 1px;}#sk-container-id-4 div.sk-estimator {font-family: monospace;background-color: #f0f8ff;border: 1px dotted black;border-radius: 0.25em;box-sizing: border-box;margin-bottom: 0.5em;}#sk-container-id-4 div.sk-estimator:hover {background-color: #d4ebff;}#sk-container-id-4 div.sk-parallel-item::after {content: \"\";width: 100%;border-bottom: 1px solid gray;flex-grow: 1;}#sk-container-id-4 div.sk-label:hover label.sk-toggleable__label {background-color: #d4ebff;}#sk-container-id-4 div.sk-serial::before {content: \"\";position: absolute;border-left: 1px solid gray;box-sizing: border-box;top: 0;bottom: 0;left: 50%;z-index: 0;}#sk-container-id-4 div.sk-serial {display: flex;flex-direction: column;align-items: center;background-color: white;padding-right: 0.2em;padding-left: 0.2em;position: relative;}#sk-container-id-4 div.sk-item {position: relative;z-index: 1;}#sk-container-id-4 div.sk-parallel {display: flex;align-items: stretch;justify-content: center;background-color: white;position: relative;}#sk-container-id-4 div.sk-item::before, #sk-container-id-4 div.sk-parallel-item::before {content: \"\";position: absolute;border-left: 1px solid gray;box-sizing: border-box;top: 0;bottom: 0;left: 50%;z-index: -1;}#sk-container-id-4 div.sk-parallel-item {display: flex;flex-direction: column;z-index: 1;position: relative;background-color: white;}#sk-container-id-4 div.sk-parallel-item:first-child::after {align-self: flex-end;width: 50%;}#sk-container-id-4 div.sk-parallel-item:last-child::after {align-self: flex-start;width: 50%;}#sk-container-id-4 div.sk-parallel-item:only-child::after {width: 0;}#sk-container-id-4 div.sk-dashed-wrapped {border: 1px dashed gray;margin: 0 0.4em 0.5em 0.4em;box-sizing: border-box;padding-bottom: 0.4em;background-color: white;}#sk-container-id-4 div.sk-label label {font-family: monospace;font-weight: bold;display: inline-block;line-height: 1.2em;}#sk-container-id-4 div.sk-label-container {text-align: center;}#sk-container-id-4 div.sk-container {/* jupyter's `normalize.less` sets `[hidden] { display: none; }` but bootstrap.min.css set `[hidden] { display: none !important; }` so we also need the `!important` here to be able to override the default hidden behavior on the sphinx rendered scikit-learn.org. See: https://github.com/scikit-learn/scikit-learn/issues/21755 */display: inline-block !important;position: relative;}#sk-container-id-4 div.sk-text-repr-fallback {display: none;}</style><div id=\"sk-container-id-4\" class=\"sk-top-container\"><div class=\"sk-text-repr-fallback\"><pre>DecisionTreeClassifier(criterion=&#x27;entropy&#x27;, random_state=100)</pre><b>In a Jupyter environment, please rerun this cell to show the HTML representation or trust the notebook. <br />On GitHub, the HTML representation is unable to render, please try loading this page with nbviewer.org.</b></div><div class=\"sk-container\" hidden><div class=\"sk-item\"><div class=\"sk-estimator sk-toggleable\"><input class=\"sk-toggleable__control sk-hidden--visually\" id=\"sk-estimator-id-4\" type=\"checkbox\" checked><label for=\"sk-estimator-id-4\" class=\"sk-toggleable__label sk-toggleable__label-arrow\">DecisionTreeClassifier</label><div class=\"sk-toggleable__content\"><pre>DecisionTreeClassifier(criterion=&#x27;entropy&#x27;, random_state=100)</pre></div></div></div></div></div>"
            ],
            "text/plain": [
              "DecisionTreeClassifier(criterion='entropy', random_state=100)"
            ]
          },
          "execution_count": 83,
          "metadata": {},
          "output_type": "execute_result"
        }
      ],
      "source": [
        "model_gini.fit(X_train,Y_train)"
      ]
    },
    {
      "cell_type": "code",
      "execution_count": null,
      "metadata": {
        "colab": {
          "base_uri": "https://localhost:8080/",
          "height": 1000
        },
        "id": "HHWKYbE5K0z5",
        "outputId": "ace4785b-c4d7-4118-fdfa-550882f547fe"
      },
      "outputs": [
        {
          "data": {
            "text/plain": [
              "[Text(0.5288387345679012, 0.9722222222222222, 'x[1] <= 144.5\\nentropy = 0.944\\nsamples = 537\\nvalue = [343, 194]'),\n",
              " Text(0.1873070987654321, 0.9166666666666666, 'x[5] <= 26.45\\nentropy = 0.8\\nsamples = 412\\nvalue = [312, 100]'),\n",
              " Text(0.06172839506172839, 0.8611111111111112, 'x[7] <= 53.5\\nentropy = 0.187\\nsamples = 105\\nvalue = [102, 3]'),\n",
              " Text(0.024691358024691357, 0.8055555555555556, 'x[6] <= 0.675\\nentropy = 0.085\\nsamples = 94\\nvalue = [93, 1]'),\n",
              " Text(0.012345679012345678, 0.75, 'entropy = 0.0\\nsamples = 79\\nvalue = [79, 0]'),\n",
              " Text(0.037037037037037035, 0.75, 'x[6] <= 0.688\\nentropy = 0.353\\nsamples = 15\\nvalue = [14, 1]'),\n",
              " Text(0.024691358024691357, 0.6944444444444444, 'entropy = 0.0\\nsamples = 1\\nvalue = [0, 1]'),\n",
              " Text(0.04938271604938271, 0.6944444444444444, 'entropy = 0.0\\nsamples = 14\\nvalue = [14, 0]'),\n",
              " Text(0.09876543209876543, 0.8055555555555556, 'x[6] <= 0.343\\nentropy = 0.684\\nsamples = 11\\nvalue = [9, 2]'),\n",
              " Text(0.08641975308641975, 0.75, 'x[5] <= 24.0\\nentropy = 1.0\\nsamples = 4\\nvalue = [2, 2]'),\n",
              " Text(0.07407407407407407, 0.6944444444444444, 'entropy = 0.0\\nsamples = 2\\nvalue = [0, 2]'),\n",
              " Text(0.09876543209876543, 0.6944444444444444, 'entropy = 0.0\\nsamples = 2\\nvalue = [2, 0]'),\n",
              " Text(0.1111111111111111, 0.75, 'entropy = 0.0\\nsamples = 7\\nvalue = [7, 0]'),\n",
              " Text(0.3128858024691358, 0.8611111111111112, 'x[7] <= 28.5\\nentropy = 0.9\\nsamples = 307\\nvalue = [210, 97]'),\n",
              " Text(0.1697530864197531, 0.8055555555555556, 'x[5] <= 30.45\\nentropy = 0.642\\nsamples = 147\\nvalue = [123, 24]'),\n",
              " Text(0.13580246913580246, 0.75, 'x[0] <= 7.0\\nentropy = 0.187\\nsamples = 35\\nvalue = [34, 1]'),\n",
              " Text(0.12345679012345678, 0.6944444444444444, 'entropy = 0.0\\nsamples = 34\\nvalue = [34, 0]'),\n",
              " Text(0.14814814814814814, 0.6944444444444444, 'entropy = 0.0\\nsamples = 1\\nvalue = [0, 1]'),\n",
              " Text(0.2037037037037037, 0.75, 'x[2] <= 53.0\\nentropy = 0.733\\nsamples = 112\\nvalue = [89, 23]'),\n",
              " Text(0.1728395061728395, 0.6944444444444444, 'x[3] <= 36.0\\nentropy = 0.971\\nsamples = 10\\nvalue = [4, 6]'),\n",
              " Text(0.16049382716049382, 0.6388888888888888, 'x[4] <= 91.0\\nentropy = 0.985\\nsamples = 7\\nvalue = [4, 3]'),\n",
              " Text(0.14814814814814814, 0.5833333333333334, 'x[6] <= 0.478\\nentropy = 0.811\\nsamples = 4\\nvalue = [1, 3]'),\n",
              " Text(0.13580246913580246, 0.5277777777777778, 'entropy = 0.0\\nsamples = 3\\nvalue = [0, 3]'),\n",
              " Text(0.16049382716049382, 0.5277777777777778, 'entropy = 0.0\\nsamples = 1\\nvalue = [1, 0]'),\n",
              " Text(0.1728395061728395, 0.5833333333333334, 'entropy = 0.0\\nsamples = 3\\nvalue = [3, 0]'),\n",
              " Text(0.18518518518518517, 0.6388888888888888, 'entropy = 0.0\\nsamples = 3\\nvalue = [0, 3]'),\n",
              " Text(0.2345679012345679, 0.6944444444444444, 'x[6] <= 1.184\\nentropy = 0.65\\nsamples = 102\\nvalue = [85, 17]'),\n",
              " Text(0.2222222222222222, 0.6388888888888888, 'x[1] <= 89.5\\nentropy = 0.61\\nsamples = 100\\nvalue = [85, 15]'),\n",
              " Text(0.20987654320987653, 0.5833333333333334, 'entropy = 0.0\\nsamples = 19\\nvalue = [19, 0]'),\n",
              " Text(0.2345679012345679, 0.5833333333333334, 'x[1] <= 127.5\\nentropy = 0.691\\nsamples = 81\\nvalue = [66, 15]'),\n",
              " Text(0.18518518518518517, 0.5277777777777778, 'x[1] <= 113.5\\nentropy = 0.586\\nsamples = 64\\nvalue = [55, 9]'),\n",
              " Text(0.1728395061728395, 0.4722222222222222, 'x[2] <= 61.0\\nentropy = 0.74\\nsamples = 43\\nvalue = [34, 9]'),\n",
              " Text(0.16049382716049382, 0.4166666666666667, 'entropy = 0.0\\nsamples = 7\\nvalue = [7, 0]'),\n",
              " Text(0.18518518518518517, 0.4166666666666667, 'x[2] <= 69.0\\nentropy = 0.811\\nsamples = 36\\nvalue = [27, 9]'),\n",
              " Text(0.14814814814814814, 0.3611111111111111, 'x[6] <= 0.435\\nentropy = 0.985\\nsamples = 14\\nvalue = [8, 6]'),\n",
              " Text(0.13580246913580246, 0.3055555555555556, 'entropy = 0.0\\nsamples = 6\\nvalue = [6, 0]'),\n",
              " Text(0.16049382716049382, 0.3055555555555556, 'x[6] <= 0.908\\nentropy = 0.811\\nsamples = 8\\nvalue = [2, 6]'),\n",
              " Text(0.14814814814814814, 0.25, 'x[1] <= 98.5\\nentropy = 0.592\\nsamples = 7\\nvalue = [1, 6]'),\n",
              " Text(0.13580246913580246, 0.19444444444444445, 'x[1] <= 95.0\\nentropy = 0.918\\nsamples = 3\\nvalue = [1, 2]'),\n",
              " Text(0.12345679012345678, 0.1388888888888889, 'entropy = 0.0\\nsamples = 2\\nvalue = [0, 2]'),\n",
              " Text(0.14814814814814814, 0.1388888888888889, 'entropy = 0.0\\nsamples = 1\\nvalue = [1, 0]'),\n",
              " Text(0.16049382716049382, 0.19444444444444445, 'entropy = 0.0\\nsamples = 4\\nvalue = [0, 4]'),\n",
              " Text(0.1728395061728395, 0.25, 'entropy = 0.0\\nsamples = 1\\nvalue = [1, 0]'),\n",
              " Text(0.2222222222222222, 0.3611111111111111, 'x[6] <= 0.304\\nentropy = 0.575\\nsamples = 22\\nvalue = [19, 3]'),\n",
              " Text(0.20987654320987653, 0.3055555555555556, 'x[5] <= 33.75\\nentropy = 0.845\\nsamples = 11\\nvalue = [8, 3]'),\n",
              " Text(0.19753086419753085, 0.25, 'entropy = 0.0\\nsamples = 2\\nvalue = [0, 2]'),\n",
              " Text(0.2222222222222222, 0.25, 'x[6] <= 0.135\\nentropy = 0.503\\nsamples = 9\\nvalue = [8, 1]'),\n",
              " Text(0.20987654320987653, 0.19444444444444445, 'entropy = 0.0\\nsamples = 1\\nvalue = [0, 1]'),\n",
              " Text(0.2345679012345679, 0.19444444444444445, 'entropy = 0.0\\nsamples = 8\\nvalue = [8, 0]'),\n",
              " Text(0.2345679012345679, 0.3055555555555556, 'entropy = 0.0\\nsamples = 11\\nvalue = [11, 0]'),\n",
              " Text(0.19753086419753085, 0.4722222222222222, 'entropy = 0.0\\nsamples = 21\\nvalue = [21, 0]'),\n",
              " Text(0.2839506172839506, 0.5277777777777778, 'x[3] <= 24.0\\nentropy = 0.937\\nsamples = 17\\nvalue = [11, 6]'),\n",
              " Text(0.2716049382716049, 0.4722222222222222, 'entropy = 0.0\\nsamples = 6\\nvalue = [6, 0]'),\n",
              " Text(0.2962962962962963, 0.4722222222222222, 'x[5] <= 41.8\\nentropy = 0.994\\nsamples = 11\\nvalue = [5, 6]'),\n",
              " Text(0.2839506172839506, 0.4166666666666667, 'x[0] <= 2.5\\nentropy = 0.954\\nsamples = 8\\nvalue = [5, 3]'),\n",
              " Text(0.2716049382716049, 0.3611111111111111, 'x[2] <= 61.0\\nentropy = 0.65\\nsamples = 6\\nvalue = [5, 1]'),\n",
              " Text(0.25925925925925924, 0.3055555555555556, 'entropy = 0.0\\nsamples = 1\\nvalue = [0, 1]'),\n",
              " Text(0.2839506172839506, 0.3055555555555556, 'entropy = 0.0\\nsamples = 5\\nvalue = [5, 0]'),\n",
              " Text(0.2962962962962963, 0.3611111111111111, 'entropy = 0.0\\nsamples = 2\\nvalue = [0, 2]'),\n",
              " Text(0.30864197530864196, 0.4166666666666667, 'entropy = 0.0\\nsamples = 3\\nvalue = [0, 3]'),\n",
              " Text(0.24691358024691357, 0.6388888888888888, 'entropy = 0.0\\nsamples = 2\\nvalue = [0, 2]'),\n",
              " Text(0.45601851851851855, 0.8055555555555556, 'x[1] <= 107.5\\nentropy = 0.994\\nsamples = 160\\nvalue = [87, 73]'),\n",
              " Text(0.32098765432098764, 0.75, 'x[6] <= 0.218\\nentropy = 0.87\\nsamples = 55\\nvalue = [39, 16]'),\n",
              " Text(0.30864197530864196, 0.6944444444444444, 'entropy = 0.0\\nsamples = 12\\nvalue = [12, 0]'),\n",
              " Text(0.3333333333333333, 0.6944444444444444, 'x[5] <= 27.95\\nentropy = 0.952\\nsamples = 43\\nvalue = [27, 16]'),\n",
              " Text(0.32098765432098764, 0.6388888888888888, 'entropy = 0.0\\nsamples = 3\\nvalue = [0, 3]'),\n",
              " Text(0.345679012345679, 0.6388888888888888, 'x[0] <= 4.5\\nentropy = 0.91\\nsamples = 40\\nvalue = [27, 13]'),\n",
              " Text(0.32098765432098764, 0.5833333333333334, 'x[7] <= 42.5\\nentropy = 0.371\\nsamples = 14\\nvalue = [13, 1]'),\n",
              " Text(0.30864197530864196, 0.5277777777777778, 'entropy = 0.0\\nsamples = 13\\nvalue = [13, 0]'),\n",
              " Text(0.3333333333333333, 0.5277777777777778, 'entropy = 0.0\\nsamples = 1\\nvalue = [0, 1]'),\n",
              " Text(0.37037037037037035, 0.5833333333333334, 'x[5] <= 40.25\\nentropy = 0.996\\nsamples = 26\\nvalue = [14, 12]'),\n",
              " Text(0.35802469135802467, 0.5277777777777778, 'x[6] <= 0.292\\nentropy = 0.966\\nsamples = 23\\nvalue = [14, 9]'),\n",
              " Text(0.345679012345679, 0.4722222222222222, 'entropy = 0.0\\nsamples = 3\\nvalue = [3, 0]'),\n",
              " Text(0.37037037037037035, 0.4722222222222222, 'x[5] <= 38.65\\nentropy = 0.993\\nsamples = 20\\nvalue = [11, 9]'),\n",
              " Text(0.35802469135802467, 0.4166666666666667, 'x[0] <= 12.5\\nentropy = 0.964\\nsamples = 18\\nvalue = [11, 7]'),\n",
              " Text(0.345679012345679, 0.3611111111111111, 'x[4] <= 27.0\\nentropy = 0.896\\nsamples = 16\\nvalue = [11, 5]'),\n",
              " Text(0.3333333333333333, 0.3055555555555556, 'x[3] <= 11.0\\nentropy = 0.994\\nsamples = 11\\nvalue = [6, 5]'),\n",
              " Text(0.30864197530864196, 0.25, 'x[2] <= 37.0\\nentropy = 0.65\\nsamples = 6\\nvalue = [5, 1]'),\n",
              " Text(0.2962962962962963, 0.19444444444444445, 'x[7] <= 31.5\\nentropy = 1.0\\nsamples = 2\\nvalue = [1, 1]'),\n",
              " Text(0.2839506172839506, 0.1388888888888889, 'entropy = 0.0\\nsamples = 1\\nvalue = [1, 0]'),\n",
              " Text(0.30864197530864196, 0.1388888888888889, 'entropy = 0.0\\nsamples = 1\\nvalue = [0, 1]'),\n",
              " Text(0.32098765432098764, 0.19444444444444445, 'entropy = 0.0\\nsamples = 4\\nvalue = [4, 0]'),\n",
              " Text(0.35802469135802467, 0.25, 'x[5] <= 36.95\\nentropy = 0.722\\nsamples = 5\\nvalue = [1, 4]'),\n",
              " Text(0.345679012345679, 0.19444444444444445, 'entropy = 0.0\\nsamples = 4\\nvalue = [0, 4]'),\n",
              " Text(0.37037037037037035, 0.19444444444444445, 'entropy = 0.0\\nsamples = 1\\nvalue = [1, 0]'),\n",
              " Text(0.35802469135802467, 0.3055555555555556, 'entropy = 0.0\\nsamples = 5\\nvalue = [5, 0]'),\n",
              " Text(0.37037037037037035, 0.3611111111111111, 'entropy = 0.0\\nsamples = 2\\nvalue = [0, 2]'),\n",
              " Text(0.38271604938271603, 0.4166666666666667, 'entropy = 0.0\\nsamples = 2\\nvalue = [0, 2]'),\n",
              " Text(0.38271604938271603, 0.5277777777777778, 'entropy = 0.0\\nsamples = 3\\nvalue = [0, 3]'),\n",
              " Text(0.5910493827160493, 0.75, 'x[7] <= 58.5\\nentropy = 0.995\\nsamples = 105\\nvalue = [48, 57]'),\n",
              " Text(0.5787037037037037, 0.6944444444444444, 'x[5] <= 45.3\\nentropy = 0.986\\nsamples = 100\\nvalue = [43, 57]'),\n",
              " Text(0.566358024691358, 0.6388888888888888, 'x[6] <= 0.528\\nentropy = 0.995\\nsamples = 94\\nvalue = [43, 51]'),\n",
              " Text(0.4660493827160494, 0.5833333333333334, 'x[7] <= 34.5\\nentropy = 0.995\\nsamples = 63\\nvalue = [34, 29]'),\n",
              " Text(0.43209876543209874, 0.5277777777777778, 'x[1] <= 129.5\\nentropy = 0.811\\nsamples = 20\\nvalue = [15, 5]'),\n",
              " Text(0.41975308641975306, 0.4722222222222222, 'x[1] <= 121.5\\nentropy = 0.65\\nsamples = 18\\nvalue = [15, 3]'),\n",
              " Text(0.4074074074074074, 0.4166666666666667, 'x[1] <= 116.0\\nentropy = 0.881\\nsamples = 10\\nvalue = [7, 3]'),\n",
              " Text(0.3950617283950617, 0.3611111111111111, 'entropy = 0.0\\nsamples = 4\\nvalue = [4, 0]'),\n",
              " Text(0.41975308641975306, 0.3611111111111111, 'x[5] <= 37.0\\nentropy = 1.0\\nsamples = 6\\nvalue = [3, 3]'),\n",
              " Text(0.4074074074074074, 0.3055555555555556, 'x[2] <= 88.0\\nentropy = 0.811\\nsamples = 4\\nvalue = [1, 3]'),\n",
              " Text(0.3950617283950617, 0.25, 'entropy = 0.0\\nsamples = 3\\nvalue = [0, 3]'),\n",
              " Text(0.41975308641975306, 0.25, 'entropy = 0.0\\nsamples = 1\\nvalue = [1, 0]'),\n",
              " Text(0.43209876543209874, 0.3055555555555556, 'entropy = 0.0\\nsamples = 2\\nvalue = [2, 0]'),\n",
              " Text(0.43209876543209874, 0.4166666666666667, 'entropy = 0.0\\nsamples = 8\\nvalue = [8, 0]'),\n",
              " Text(0.4444444444444444, 0.4722222222222222, 'entropy = 0.0\\nsamples = 2\\nvalue = [0, 2]'),\n",
              " Text(0.5, 0.5277777777777778, 'x[5] <= 27.55\\nentropy = 0.99\\nsamples = 43\\nvalue = [19, 24]'),\n",
              " Text(0.4876543209876543, 0.4722222222222222, 'entropy = 0.0\\nsamples = 3\\nvalue = [0, 3]'),\n",
              " Text(0.5123456790123457, 0.4722222222222222, 'x[5] <= 29.85\\nentropy = 0.998\\nsamples = 40\\nvalue = [19, 21]'),\n",
              " Text(0.5, 0.4166666666666667, 'entropy = 0.0\\nsamples = 4\\nvalue = [4, 0]'),\n",
              " Text(0.5246913580246914, 0.4166666666666667, 'x[7] <= 51.5\\nentropy = 0.98\\nsamples = 36\\nvalue = [15, 21]'),\n",
              " Text(0.5123456790123457, 0.3611111111111111, 'x[2] <= 75.0\\nentropy = 0.994\\nsamples = 33\\nvalue = [15, 18]'),\n",
              " Text(0.4567901234567901, 0.3055555555555556, 'x[6] <= 0.25\\nentropy = 0.837\\nsamples = 15\\nvalue = [4, 11]'),\n",
              " Text(0.4444444444444444, 0.25, 'entropy = 0.0\\nsamples = 5\\nvalue = [0, 5]'),\n",
              " Text(0.4691358024691358, 0.25, 'x[6] <= 0.259\\nentropy = 0.971\\nsamples = 10\\nvalue = [4, 6]'),\n",
              " Text(0.4567901234567901, 0.19444444444444445, 'entropy = 0.0\\nsamples = 2\\nvalue = [2, 0]'),\n",
              " Text(0.48148148148148145, 0.19444444444444445, 'x[2] <= 30.0\\nentropy = 0.811\\nsamples = 8\\nvalue = [2, 6]'),\n",
              " Text(0.4691358024691358, 0.1388888888888889, 'entropy = 0.0\\nsamples = 1\\nvalue = [1, 0]'),\n",
              " Text(0.49382716049382713, 0.1388888888888889, 'x[3] <= 40.0\\nentropy = 0.592\\nsamples = 7\\nvalue = [1, 6]'),\n",
              " Text(0.48148148148148145, 0.08333333333333333, 'entropy = 0.0\\nsamples = 5\\nvalue = [0, 5]'),\n",
              " Text(0.5061728395061729, 0.08333333333333333, 'x[2] <= 69.0\\nentropy = 1.0\\nsamples = 2\\nvalue = [1, 1]'),\n",
              " Text(0.49382716049382713, 0.027777777777777776, 'entropy = 0.0\\nsamples = 1\\nvalue = [0, 1]'),\n",
              " Text(0.5185185185185185, 0.027777777777777776, 'entropy = 0.0\\nsamples = 1\\nvalue = [1, 0]'),\n",
              " Text(0.5679012345679012, 0.3055555555555556, 'x[5] <= 37.1\\nentropy = 0.964\\nsamples = 18\\nvalue = [11, 7]'),\n",
              " Text(0.5555555555555556, 0.25, 'x[3] <= 19.5\\nentropy = 0.996\\nsamples = 13\\nvalue = [6, 7]'),\n",
              " Text(0.5308641975308642, 0.19444444444444445, 'x[6] <= 0.34\\nentropy = 0.863\\nsamples = 7\\nvalue = [5, 2]'),\n",
              " Text(0.5185185185185185, 0.1388888888888889, 'entropy = 0.0\\nsamples = 4\\nvalue = [4, 0]'),\n",
              " Text(0.5432098765432098, 0.1388888888888889, 'x[0] <= 8.0\\nentropy = 0.918\\nsamples = 3\\nvalue = [1, 2]'),\n",
              " Text(0.5308641975308642, 0.08333333333333333, 'entropy = 0.0\\nsamples = 2\\nvalue = [0, 2]'),\n",
              " Text(0.5555555555555556, 0.08333333333333333, 'entropy = 0.0\\nsamples = 1\\nvalue = [1, 0]'),\n",
              " Text(0.5802469135802469, 0.19444444444444445, 'x[2] <= 80.0\\nentropy = 0.65\\nsamples = 6\\nvalue = [1, 5]'),\n",
              " Text(0.5679012345679012, 0.1388888888888889, 'entropy = 0.0\\nsamples = 1\\nvalue = [1, 0]'),\n",
              " Text(0.5925925925925926, 0.1388888888888889, 'entropy = 0.0\\nsamples = 5\\nvalue = [0, 5]'),\n",
              " Text(0.5802469135802469, 0.25, 'entropy = 0.0\\nsamples = 5\\nvalue = [5, 0]'),\n",
              " Text(0.5370370370370371, 0.3611111111111111, 'entropy = 0.0\\nsamples = 3\\nvalue = [0, 3]'),\n",
              " Text(0.6666666666666666, 0.5833333333333334, 'x[7] <= 53.0\\nentropy = 0.869\\nsamples = 31\\nvalue = [9, 22]'),\n",
              " Text(0.654320987654321, 0.5277777777777778, 'x[3] <= 38.0\\nentropy = 0.797\\nsamples = 29\\nvalue = [7, 22]'),\n",
              " Text(0.6296296296296297, 0.4722222222222222, 'x[3] <= 9.0\\nentropy = 0.634\\nsamples = 25\\nvalue = [4, 21]'),\n",
              " Text(0.6172839506172839, 0.4166666666666667, 'x[0] <= 8.0\\nentropy = 0.946\\nsamples = 11\\nvalue = [4, 7]'),\n",
              " Text(0.6049382716049383, 0.3611111111111111, 'x[6] <= 0.72\\nentropy = 0.985\\nsamples = 7\\nvalue = [4, 3]'),\n",
              " Text(0.5925925925925926, 0.3055555555555556, 'entropy = 0.0\\nsamples = 3\\nvalue = [3, 0]'),\n",
              " Text(0.6172839506172839, 0.3055555555555556, 'x[7] <= 40.5\\nentropy = 0.811\\nsamples = 4\\nvalue = [1, 3]'),\n",
              " Text(0.6049382716049383, 0.25, 'entropy = 0.0\\nsamples = 3\\nvalue = [0, 3]'),\n",
              " Text(0.6296296296296297, 0.25, 'entropy = 0.0\\nsamples = 1\\nvalue = [1, 0]'),\n",
              " Text(0.6296296296296297, 0.3611111111111111, 'entropy = 0.0\\nsamples = 4\\nvalue = [0, 4]'),\n",
              " Text(0.6419753086419753, 0.4166666666666667, 'entropy = 0.0\\nsamples = 14\\nvalue = [0, 14]'),\n",
              " Text(0.6790123456790124, 0.4722222222222222, 'x[2] <= 86.0\\nentropy = 0.811\\nsamples = 4\\nvalue = [3, 1]'),\n",
              " Text(0.6666666666666666, 0.4166666666666667, 'entropy = 0.0\\nsamples = 3\\nvalue = [3, 0]'),\n",
              " Text(0.691358024691358, 0.4166666666666667, 'entropy = 0.0\\nsamples = 1\\nvalue = [0, 1]'),\n",
              " Text(0.6790123456790124, 0.5277777777777778, 'entropy = 0.0\\nsamples = 2\\nvalue = [2, 0]'),\n",
              " Text(0.5910493827160493, 0.6388888888888888, 'entropy = 0.0\\nsamples = 6\\nvalue = [0, 6]'),\n",
              " Text(0.6033950617283951, 0.6944444444444444, 'entropy = 0.0\\nsamples = 5\\nvalue = [5, 0]'),\n",
              " Text(0.8703703703703703, 0.9166666666666666, 'x[1] <= 166.5\\nentropy = 0.808\\nsamples = 125\\nvalue = [31, 94]'),\n",
              " Text(0.8024691358024691, 0.8611111111111112, 'x[6] <= 0.331\\nentropy = 0.949\\nsamples = 68\\nvalue = [25, 43]'),\n",
              " Text(0.7530864197530864, 0.8055555555555556, 'x[2] <= 63.0\\nentropy = 0.985\\nsamples = 28\\nvalue = [16, 12]'),\n",
              " Text(0.7407407407407407, 0.75, 'entropy = 0.0\\nsamples = 4\\nvalue = [0, 4]'),\n",
              " Text(0.7654320987654321, 0.75, 'x[3] <= 18.5\\nentropy = 0.918\\nsamples = 24\\nvalue = [16, 8]'),\n",
              " Text(0.7530864197530864, 0.6944444444444444, 'x[5] <= 31.4\\nentropy = 0.997\\nsamples = 15\\nvalue = [7, 8]'),\n",
              " Text(0.7283950617283951, 0.6388888888888888, 'x[1] <= 157.0\\nentropy = 0.811\\nsamples = 8\\nvalue = [6, 2]'),\n",
              " Text(0.7160493827160493, 0.5833333333333334, 'x[5] <= 22.9\\nentropy = 0.918\\nsamples = 3\\nvalue = [1, 2]'),\n",
              " Text(0.7037037037037037, 0.5277777777777778, 'entropy = 0.0\\nsamples = 1\\nvalue = [1, 0]'),\n",
              " Text(0.7283950617283951, 0.5277777777777778, 'entropy = 0.0\\nsamples = 2\\nvalue = [0, 2]'),\n",
              " Text(0.7407407407407407, 0.5833333333333334, 'entropy = 0.0\\nsamples = 5\\nvalue = [5, 0]'),\n",
              " Text(0.7777777777777778, 0.6388888888888888, 'x[7] <= 58.5\\nentropy = 0.592\\nsamples = 7\\nvalue = [1, 6]'),\n",
              " Text(0.7654320987654321, 0.5833333333333334, 'entropy = 0.0\\nsamples = 5\\nvalue = [0, 5]'),\n",
              " Text(0.7901234567901234, 0.5833333333333334, 'x[5] <= 33.1\\nentropy = 1.0\\nsamples = 2\\nvalue = [1, 1]'),\n",
              " Text(0.7777777777777778, 0.5277777777777778, 'entropy = 0.0\\nsamples = 1\\nvalue = [0, 1]'),\n",
              " Text(0.8024691358024691, 0.5277777777777778, 'entropy = 0.0\\nsamples = 1\\nvalue = [1, 0]'),\n",
              " Text(0.7777777777777778, 0.6944444444444444, 'entropy = 0.0\\nsamples = 9\\nvalue = [9, 0]'),\n",
              " Text(0.8518518518518519, 0.8055555555555556, 'x[6] <= 0.414\\nentropy = 0.769\\nsamples = 40\\nvalue = [9, 31]'),\n",
              " Text(0.8395061728395061, 0.75, 'entropy = 0.0\\nsamples = 11\\nvalue = [0, 11]'),\n",
              " Text(0.8641975308641975, 0.75, 'x[0] <= 7.5\\nentropy = 0.894\\nsamples = 29\\nvalue = [9, 20]'),\n",
              " Text(0.8518518518518519, 0.6944444444444444, 'x[4] <= 110.0\\nentropy = 0.998\\nsamples = 19\\nvalue = [9, 10]'),\n",
              " Text(0.8271604938271605, 0.6388888888888888, 'x[5] <= 30.55\\nentropy = 0.811\\nsamples = 12\\nvalue = [3, 9]'),\n",
              " Text(0.8148148148148148, 0.5833333333333334, 'entropy = 0.0\\nsamples = 2\\nvalue = [2, 0]'),\n",
              " Text(0.8395061728395061, 0.5833333333333334, 'x[6] <= 1.502\\nentropy = 0.469\\nsamples = 10\\nvalue = [1, 9]'),\n",
              " Text(0.8271604938271605, 0.5277777777777778, 'entropy = 0.0\\nsamples = 9\\nvalue = [0, 9]'),\n",
              " Text(0.8518518518518519, 0.5277777777777778, 'entropy = 0.0\\nsamples = 1\\nvalue = [1, 0]'),\n",
              " Text(0.8765432098765432, 0.6388888888888888, 'x[5] <= 32.05\\nentropy = 0.592\\nsamples = 7\\nvalue = [6, 1]'),\n",
              " Text(0.8641975308641975, 0.5833333333333334, 'entropy = 0.0\\nsamples = 1\\nvalue = [0, 1]'),\n",
              " Text(0.8888888888888888, 0.5833333333333334, 'entropy = 0.0\\nsamples = 6\\nvalue = [6, 0]'),\n",
              " Text(0.8765432098765432, 0.6944444444444444, 'entropy = 0.0\\nsamples = 10\\nvalue = [0, 10]'),\n",
              " Text(0.9382716049382716, 0.8611111111111112, 'x[7] <= 57.5\\nentropy = 0.485\\nsamples = 57\\nvalue = [6, 51]'),\n",
              " Text(0.9135802469135802, 0.8055555555555556, 'x[1] <= 188.5\\nentropy = 0.332\\nsamples = 49\\nvalue = [3, 46]'),\n",
              " Text(0.9012345679012346, 0.75, 'entropy = 0.0\\nsamples = 37\\nvalue = [0, 37]'),\n",
              " Text(0.9259259259259259, 0.75, 'x[0] <= 4.5\\nentropy = 0.811\\nsamples = 12\\nvalue = [3, 9]'),\n",
              " Text(0.9135802469135802, 0.6944444444444444, 'x[0] <= 2.0\\nentropy = 1.0\\nsamples = 6\\nvalue = [3, 3]'),\n",
              " Text(0.9012345679012346, 0.6388888888888888, 'entropy = 0.0\\nsamples = 3\\nvalue = [0, 3]'),\n",
              " Text(0.9259259259259259, 0.6388888888888888, 'entropy = 0.0\\nsamples = 3\\nvalue = [3, 0]'),\n",
              " Text(0.9382716049382716, 0.6944444444444444, 'entropy = 0.0\\nsamples = 6\\nvalue = [0, 6]'),\n",
              " Text(0.9629629629629629, 0.8055555555555556, 'x[2] <= 74.0\\nentropy = 0.954\\nsamples = 8\\nvalue = [3, 5]'),\n",
              " Text(0.9506172839506173, 0.75, 'entropy = 0.0\\nsamples = 3\\nvalue = [0, 3]'),\n",
              " Text(0.9753086419753086, 0.75, 'x[6] <= 0.509\\nentropy = 0.971\\nsamples = 5\\nvalue = [3, 2]'),\n",
              " Text(0.9629629629629629, 0.6944444444444444, 'x[2] <= 93.5\\nentropy = 0.918\\nsamples = 3\\nvalue = [1, 2]'),\n",
              " Text(0.9506172839506173, 0.6388888888888888, 'entropy = 0.0\\nsamples = 2\\nvalue = [0, 2]'),\n",
              " Text(0.9753086419753086, 0.6388888888888888, 'entropy = 0.0\\nsamples = 1\\nvalue = [1, 0]'),\n",
              " Text(0.9876543209876543, 0.6944444444444444, 'entropy = 0.0\\nsamples = 2\\nvalue = [2, 0]')]"
            ]
          },
          "execution_count": 85,
          "metadata": {},
          "output_type": "execute_result"
        },
        {
          "data": {
            "image/png": "[encoded data removed]",
            "text/plain": [
              "<Figure size 640x480 with 1 Axes>"
            ]
          },
          "metadata": {},
          "output_type": "display_data"
        }
      ],
      "source": [
        "tree.plot_tree(model_gini)"
      ]
    },
    {
      "cell_type": "code",
      "execution_count": null,
      "metadata": {
        "id": "QeQJzd2vMEh-"
      },
      "outputs": [],
      "source": [
        "Y_pred1 = model_gini.predict(X_test)"
      ]
    },
    {
      "cell_type": "code",
      "execution_count": null,
      "metadata": {
        "colab": {
          "base_uri": "https://localhost:8080/"
        },
        "id": "P4o26MEIMJbb",
        "outputId": "6ab4d8e6-42ca-4796-bfc8-d0f3aaca8ed2"
      },
      "outputs": [
        {
          "name": "stdout",
          "output_type": "stream",
          "text": [
            "Accuracy: 0.7316017316017316\n"
          ]
        }
      ],
      "source": [
        "from sklearn import metrics\n",
        "print(\"Accuracy:\", metrics.accuracy_score(Y_test, Y_pred1))"
      ]
    },
    {
      "cell_type": "code",
      "execution_count": null,
      "metadata": {
        "id": "4ekIZmBtM8cD"
      },
      "outputs": [],
      "source": [
        "model_entropy=DecisionTreeClassifier(criterion = \"entropy\",\n",
        "             random_state = 100,max_depth=None, min_samples_leaf=1)"
      ]
    },
    {
      "cell_type": "code",
      "execution_count": null,
      "metadata": {
        "colab": {
          "base_uri": "https://localhost:8080/",
          "height": 74
        },
        "id": "McwgO55oNR96",
        "outputId": "a27e658d-e40e-44ef-e98d-53ee067e94a3"
      },
      "outputs": [
        {
          "data": {
            "text/html": [
              "<style>#sk-container-id-5 {color: black;background-color: white;}#sk-container-id-5 pre{padding: 0;}#sk-container-id-5 div.sk-toggleable {background-color: white;}#sk-container-id-5 label.sk-toggleable__label {cursor: pointer;display: block;width: 100%;margin-bottom: 0;padding: 0.3em;box-sizing: border-box;text-align: center;}#sk-container-id-5 label.sk-toggleable__label-arrow:before {content: \"▸\";float: left;margin-right: 0.25em;color: #696969;}#sk-container-id-5 label.sk-toggleable__label-arrow:hover:before {color: black;}#sk-container-id-5 div.sk-estimator:hover label.sk-toggleable__label-arrow:before {color: black;}#sk-container-id-5 div.sk-toggleable__content {max-height: 0;max-width: 0;overflow: hidden;text-align: left;background-color: #f0f8ff;}#sk-container-id-5 div.sk-toggleable__content pre {margin: 0.2em;color: black;border-radius: 0.25em;background-color: #f0f8ff;}#sk-container-id-5 input.sk-toggleable__control:checked~div.sk-toggleable__content {max-height: 200px;max-width: 100%;overflow: auto;}#sk-container-id-5 input.sk-toggleable__control:checked~label.sk-toggleable__label-arrow:before {content: \"▾\";}#sk-container-id-5 div.sk-estimator input.sk-toggleable__control:checked~label.sk-toggleable__label {background-color: #d4ebff;}#sk-container-id-5 div.sk-label input.sk-toggleable__control:checked~label.sk-toggleable__label {background-color: #d4ebff;}#sk-container-id-5 input.sk-hidden--visually {border: 0;clip: rect(1px 1px 1px 1px);clip: rect(1px, 1px, 1px, 1px);height: 1px;margin: -1px;overflow: hidden;padding: 0;position: absolute;width: 1px;}#sk-container-id-5 div.sk-estimator {font-family: monospace;background-color: #f0f8ff;border: 1px dotted black;border-radius: 0.25em;box-sizing: border-box;margin-bottom: 0.5em;}#sk-container-id-5 div.sk-estimator:hover {background-color: #d4ebff;}#sk-container-id-5 div.sk-parallel-item::after {content: \"\";width: 100%;border-bottom: 1px solid gray;flex-grow: 1;}#sk-container-id-5 div.sk-label:hover label.sk-toggleable__label {background-color: #d4ebff;}#sk-container-id-5 div.sk-serial::before {content: \"\";position: absolute;border-left: 1px solid gray;box-sizing: border-box;top: 0;bottom: 0;left: 50%;z-index: 0;}#sk-container-id-5 div.sk-serial {display: flex;flex-direction: column;align-items: center;background-color: white;padding-right: 0.2em;padding-left: 0.2em;position: relative;}#sk-container-id-5 div.sk-item {position: relative;z-index: 1;}#sk-container-id-5 div.sk-parallel {display: flex;align-items: stretch;justify-content: center;background-color: white;position: relative;}#sk-container-id-5 div.sk-item::before, #sk-container-id-5 div.sk-parallel-item::before {content: \"\";position: absolute;border-left: 1px solid gray;box-sizing: border-box;top: 0;bottom: 0;left: 50%;z-index: -1;}#sk-container-id-5 div.sk-parallel-item {display: flex;flex-direction: column;z-index: 1;position: relative;background-color: white;}#sk-container-id-5 div.sk-parallel-item:first-child::after {align-self: flex-end;width: 50%;}#sk-container-id-5 div.sk-parallel-item:last-child::after {align-self: flex-start;width: 50%;}#sk-container-id-5 div.sk-parallel-item:only-child::after {width: 0;}#sk-container-id-5 div.sk-dashed-wrapped {border: 1px dashed gray;margin: 0 0.4em 0.5em 0.4em;box-sizing: border-box;padding-bottom: 0.4em;background-color: white;}#sk-container-id-5 div.sk-label label {font-family: monospace;font-weight: bold;display: inline-block;line-height: 1.2em;}#sk-container-id-5 div.sk-label-container {text-align: center;}#sk-container-id-5 div.sk-container {/* jupyter's `normalize.less` sets `[hidden] { display: none; }` but bootstrap.min.css set `[hidden] { display: none !important; }` so we also need the `!important` here to be able to override the default hidden behavior on the sphinx rendered scikit-learn.org. See: https://github.com/scikit-learn/scikit-learn/issues/21755 */display: inline-block !important;position: relative;}#sk-container-id-5 div.sk-text-repr-fallback {display: none;}</style><div id=\"sk-container-id-5\" class=\"sk-top-container\"><div class=\"sk-text-repr-fallback\"><pre>DecisionTreeClassifier(criterion=&#x27;entropy&#x27;, random_state=100)</pre><b>In a Jupyter environment, please rerun this cell to show the HTML representation or trust the notebook. <br />On GitHub, the HTML representation is unable to render, please try loading this page with nbviewer.org.</b></div><div class=\"sk-container\" hidden><div class=\"sk-item\"><div class=\"sk-estimator sk-toggleable\"><input class=\"sk-toggleable__control sk-hidden--visually\" id=\"sk-estimator-id-5\" type=\"checkbox\" checked><label for=\"sk-estimator-id-5\" class=\"sk-toggleable__label sk-toggleable__label-arrow\">DecisionTreeClassifier</label><div class=\"sk-toggleable__content\"><pre>DecisionTreeClassifier(criterion=&#x27;entropy&#x27;, random_state=100)</pre></div></div></div></div></div>"
            ],
            "text/plain": [
              "DecisionTreeClassifier(criterion='entropy', random_state=100)"
            ]
          },
          "execution_count": 93,
          "metadata": {},
          "output_type": "execute_result"
        }
      ],
      "source": [
        "model_entropy.fit(X_train,Y_train)"
      ]
    },
    {
      "cell_type": "code",
      "execution_count": null,
      "metadata": {
        "colab": {
          "base_uri": "https://localhost:8080/",
          "height": 1000
        },
        "id": "OHjfAxy5Na_z",
        "outputId": "bb544a0e-f8ae-4f37-bc83-f6c7316ec7f5"
      },
      "outputs": [
        {
          "data": {
            "text/plain": [
              "[Text(0.5288387345679012, 0.9722222222222222, 'x[1] <= 144.5\\nentropy = 0.944\\nsamples = 537\\nvalue = [343, 194]'),\n",
              " Text(0.1873070987654321, 0.9166666666666666, 'x[5] <= 26.45\\nentropy = 0.8\\nsamples = 412\\nvalue = [312, 100]'),\n",
              " Text(0.06172839506172839, 0.8611111111111112, 'x[7] <= 53.5\\nentropy = 0.187\\nsamples = 105\\nvalue = [102, 3]'),\n",
              " Text(0.024691358024691357, 0.8055555555555556, 'x[6] <= 0.675\\nentropy = 0.085\\nsamples = 94\\nvalue = [93, 1]'),\n",
              " Text(0.012345679012345678, 0.75, 'entropy = 0.0\\nsamples = 79\\nvalue = [79, 0]'),\n",
              " Text(0.037037037037037035, 0.75, 'x[6] <= 0.688\\nentropy = 0.353\\nsamples = 15\\nvalue = [14, 1]'),\n",
              " Text(0.024691358024691357, 0.6944444444444444, 'entropy = 0.0\\nsamples = 1\\nvalue = [0, 1]'),\n",
              " Text(0.04938271604938271, 0.6944444444444444, 'entropy = 0.0\\nsamples = 14\\nvalue = [14, 0]'),\n",
              " Text(0.09876543209876543, 0.8055555555555556, 'x[6] <= 0.343\\nentropy = 0.684\\nsamples = 11\\nvalue = [9, 2]'),\n",
              " Text(0.08641975308641975, 0.75, 'x[5] <= 24.0\\nentropy = 1.0\\nsamples = 4\\nvalue = [2, 2]'),\n",
              " Text(0.07407407407407407, 0.6944444444444444, 'entropy = 0.0\\nsamples = 2\\nvalue = [0, 2]'),\n",
              " Text(0.09876543209876543, 0.6944444444444444, 'entropy = 0.0\\nsamples = 2\\nvalue = [2, 0]'),\n",
              " Text(0.1111111111111111, 0.75, 'entropy = 0.0\\nsamples = 7\\nvalue = [7, 0]'),\n",
              " Text(0.3128858024691358, 0.8611111111111112, 'x[7] <= 28.5\\nentropy = 0.9\\nsamples = 307\\nvalue = [210, 97]'),\n",
              " Text(0.1697530864197531, 0.8055555555555556, 'x[5] <= 30.45\\nentropy = 0.642\\nsamples = 147\\nvalue = [123, 24]'),\n",
              " Text(0.13580246913580246, 0.75, 'x[0] <= 7.0\\nentropy = 0.187\\nsamples = 35\\nvalue = [34, 1]'),\n",
              " Text(0.12345679012345678, 0.6944444444444444, 'entropy = 0.0\\nsamples = 34\\nvalue = [34, 0]'),\n",
              " Text(0.14814814814814814, 0.6944444444444444, 'entropy = 0.0\\nsamples = 1\\nvalue = [0, 1]'),\n",
              " Text(0.2037037037037037, 0.75, 'x[2] <= 53.0\\nentropy = 0.733\\nsamples = 112\\nvalue = [89, 23]'),\n",
              " Text(0.1728395061728395, 0.6944444444444444, 'x[3] <= 36.0\\nentropy = 0.971\\nsamples = 10\\nvalue = [4, 6]'),\n",
              " Text(0.16049382716049382, 0.6388888888888888, 'x[4] <= 91.0\\nentropy = 0.985\\nsamples = 7\\nvalue = [4, 3]'),\n",
              " Text(0.14814814814814814, 0.5833333333333334, 'x[6] <= 0.478\\nentropy = 0.811\\nsamples = 4\\nvalue = [1, 3]'),\n",
              " Text(0.13580246913580246, 0.5277777777777778, 'entropy = 0.0\\nsamples = 3\\nvalue = [0, 3]'),\n",
              " Text(0.16049382716049382, 0.5277777777777778, 'entropy = 0.0\\nsamples = 1\\nvalue = [1, 0]'),\n",
              " Text(0.1728395061728395, 0.5833333333333334, 'entropy = 0.0\\nsamples = 3\\nvalue = [3, 0]'),\n",
              " Text(0.18518518518518517, 0.6388888888888888, 'entropy = 0.0\\nsamples = 3\\nvalue = [0, 3]'),\n",
              " Text(0.2345679012345679, 0.6944444444444444, 'x[6] <= 1.184\\nentropy = 0.65\\nsamples = 102\\nvalue = [85, 17]'),\n",
              " Text(0.2222222222222222, 0.6388888888888888, 'x[1] <= 89.5\\nentropy = 0.61\\nsamples = 100\\nvalue = [85, 15]'),\n",
              " Text(0.20987654320987653, 0.5833333333333334, 'entropy = 0.0\\nsamples = 19\\nvalue = [19, 0]'),\n",
              " Text(0.2345679012345679, 0.5833333333333334, 'x[1] <= 127.5\\nentropy = 0.691\\nsamples = 81\\nvalue = [66, 15]'),\n",
              " Text(0.18518518518518517, 0.5277777777777778, 'x[1] <= 113.5\\nentropy = 0.586\\nsamples = 64\\nvalue = [55, 9]'),\n",
              " Text(0.1728395061728395, 0.4722222222222222, 'x[2] <= 61.0\\nentropy = 0.74\\nsamples = 43\\nvalue = [34, 9]'),\n",
              " Text(0.16049382716049382, 0.4166666666666667, 'entropy = 0.0\\nsamples = 7\\nvalue = [7, 0]'),\n",
              " Text(0.18518518518518517, 0.4166666666666667, 'x[2] <= 69.0\\nentropy = 0.811\\nsamples = 36\\nvalue = [27, 9]'),\n",
              " Text(0.14814814814814814, 0.3611111111111111, 'x[6] <= 0.435\\nentropy = 0.985\\nsamples = 14\\nvalue = [8, 6]'),\n",
              " Text(0.13580246913580246, 0.3055555555555556, 'entropy = 0.0\\nsamples = 6\\nvalue = [6, 0]'),\n",
              " Text(0.16049382716049382, 0.3055555555555556, 'x[6] <= 0.908\\nentropy = 0.811\\nsamples = 8\\nvalue = [2, 6]'),\n",
              " Text(0.14814814814814814, 0.25, 'x[1] <= 98.5\\nentropy = 0.592\\nsamples = 7\\nvalue = [1, 6]'),\n",
              " Text(0.13580246913580246, 0.19444444444444445, 'x[1] <= 95.0\\nentropy = 0.918\\nsamples = 3\\nvalue = [1, 2]'),\n",
              " Text(0.12345679012345678, 0.1388888888888889, 'entropy = 0.0\\nsamples = 2\\nvalue = [0, 2]'),\n",
              " Text(0.14814814814814814, 0.1388888888888889, 'entropy = 0.0\\nsamples = 1\\nvalue = [1, 0]'),\n",
              " Text(0.16049382716049382, 0.19444444444444445, 'entropy = 0.0\\nsamples = 4\\nvalue = [0, 4]'),\n",
              " Text(0.1728395061728395, 0.25, 'entropy = 0.0\\nsamples = 1\\nvalue = [1, 0]'),\n",
              " Text(0.2222222222222222, 0.3611111111111111, 'x[6] <= 0.304\\nentropy = 0.575\\nsamples = 22\\nvalue = [19, 3]'),\n",
              " Text(0.20987654320987653, 0.3055555555555556, 'x[5] <= 33.75\\nentropy = 0.845\\nsamples = 11\\nvalue = [8, 3]'),\n",
              " Text(0.19753086419753085, 0.25, 'entropy = 0.0\\nsamples = 2\\nvalue = [0, 2]'),\n",
              " Text(0.2222222222222222, 0.25, 'x[6] <= 0.135\\nentropy = 0.503\\nsamples = 9\\nvalue = [8, 1]'),\n",
              " Text(0.20987654320987653, 0.19444444444444445, 'entropy = 0.0\\nsamples = 1\\nvalue = [0, 1]'),\n",
              " Text(0.2345679012345679, 0.19444444444444445, 'entropy = 0.0\\nsamples = 8\\nvalue = [8, 0]'),\n",
              " Text(0.2345679012345679, 0.3055555555555556, 'entropy = 0.0\\nsamples = 11\\nvalue = [11, 0]'),\n",
              " Text(0.19753086419753085, 0.4722222222222222, 'entropy = 0.0\\nsamples = 21\\nvalue = [21, 0]'),\n",
              " Text(0.2839506172839506, 0.5277777777777778, 'x[3] <= 24.0\\nentropy = 0.937\\nsamples = 17\\nvalue = [11, 6]'),\n",
              " Text(0.2716049382716049, 0.4722222222222222, 'entropy = 0.0\\nsamples = 6\\nvalue = [6, 0]'),\n",
              " Text(0.2962962962962963, 0.4722222222222222, 'x[5] <= 41.8\\nentropy = 0.994\\nsamples = 11\\nvalue = [5, 6]'),\n",
              " Text(0.2839506172839506, 0.4166666666666667, 'x[0] <= 2.5\\nentropy = 0.954\\nsamples = 8\\nvalue = [5, 3]'),\n",
              " Text(0.2716049382716049, 0.3611111111111111, 'x[2] <= 61.0\\nentropy = 0.65\\nsamples = 6\\nvalue = [5, 1]'),\n",
              " Text(0.25925925925925924, 0.3055555555555556, 'entropy = 0.0\\nsamples = 1\\nvalue = [0, 1]'),\n",
              " Text(0.2839506172839506, 0.3055555555555556, 'entropy = 0.0\\nsamples = 5\\nvalue = [5, 0]'),\n",
              " Text(0.2962962962962963, 0.3611111111111111, 'entropy = 0.0\\nsamples = 2\\nvalue = [0, 2]'),\n",
              " Text(0.30864197530864196, 0.4166666666666667, 'entropy = 0.0\\nsamples = 3\\nvalue = [0, 3]'),\n",
              " Text(0.24691358024691357, 0.6388888888888888, 'entropy = 0.0\\nsamples = 2\\nvalue = [0, 2]'),\n",
              " Text(0.45601851851851855, 0.8055555555555556, 'x[1] <= 107.5\\nentropy = 0.994\\nsamples = 160\\nvalue = [87, 73]'),\n",
              " Text(0.32098765432098764, 0.75, 'x[6] <= 0.218\\nentropy = 0.87\\nsamples = 55\\nvalue = [39, 16]'),\n",
              " Text(0.30864197530864196, 0.6944444444444444, 'entropy = 0.0\\nsamples = 12\\nvalue = [12, 0]'),\n",
              " Text(0.3333333333333333, 0.6944444444444444, 'x[5] <= 27.95\\nentropy = 0.952\\nsamples = 43\\nvalue = [27, 16]'),\n",
              " Text(0.32098765432098764, 0.6388888888888888, 'entropy = 0.0\\nsamples = 3\\nvalue = [0, 3]'),\n",
              " Text(0.345679012345679, 0.6388888888888888, 'x[0] <= 4.5\\nentropy = 0.91\\nsamples = 40\\nvalue = [27, 13]'),\n",
              " Text(0.32098765432098764, 0.5833333333333334, 'x[7] <= 42.5\\nentropy = 0.371\\nsamples = 14\\nvalue = [13, 1]'),\n",
              " Text(0.30864197530864196, 0.5277777777777778, 'entropy = 0.0\\nsamples = 13\\nvalue = [13, 0]'),\n",
              " Text(0.3333333333333333, 0.5277777777777778, 'entropy = 0.0\\nsamples = 1\\nvalue = [0, 1]'),\n",
              " Text(0.37037037037037035, 0.5833333333333334, 'x[5] <= 40.25\\nentropy = 0.996\\nsamples = 26\\nvalue = [14, 12]'),\n",
              " Text(0.35802469135802467, 0.5277777777777778, 'x[6] <= 0.292\\nentropy = 0.966\\nsamples = 23\\nvalue = [14, 9]'),\n",
              " Text(0.345679012345679, 0.4722222222222222, 'entropy = 0.0\\nsamples = 3\\nvalue = [3, 0]'),\n",
              " Text(0.37037037037037035, 0.4722222222222222, 'x[5] <= 38.65\\nentropy = 0.993\\nsamples = 20\\nvalue = [11, 9]'),\n",
              " Text(0.35802469135802467, 0.4166666666666667, 'x[0] <= 12.5\\nentropy = 0.964\\nsamples = 18\\nvalue = [11, 7]'),\n",
              " Text(0.345679012345679, 0.3611111111111111, 'x[4] <= 27.0\\nentropy = 0.896\\nsamples = 16\\nvalue = [11, 5]'),\n",
              " Text(0.3333333333333333, 0.3055555555555556, 'x[3] <= 11.0\\nentropy = 0.994\\nsamples = 11\\nvalue = [6, 5]'),\n",
              " Text(0.30864197530864196, 0.25, 'x[2] <= 37.0\\nentropy = 0.65\\nsamples = 6\\nvalue = [5, 1]'),\n",
              " Text(0.2962962962962963, 0.19444444444444445, 'x[7] <= 31.5\\nentropy = 1.0\\nsamples = 2\\nvalue = [1, 1]'),\n",
              " Text(0.2839506172839506, 0.1388888888888889, 'entropy = 0.0\\nsamples = 1\\nvalue = [1, 0]'),\n",
              " Text(0.30864197530864196, 0.1388888888888889, 'entropy = 0.0\\nsamples = 1\\nvalue = [0, 1]'),\n",
              " Text(0.32098765432098764, 0.19444444444444445, 'entropy = 0.0\\nsamples = 4\\nvalue = [4, 0]'),\n",
              " Text(0.35802469135802467, 0.25, 'x[5] <= 36.95\\nentropy = 0.722\\nsamples = 5\\nvalue = [1, 4]'),\n",
              " Text(0.345679012345679, 0.19444444444444445, 'entropy = 0.0\\nsamples = 4\\nvalue = [0, 4]'),\n",
              " Text(0.37037037037037035, 0.19444444444444445, 'entropy = 0.0\\nsamples = 1\\nvalue = [1, 0]'),\n",
              " Text(0.35802469135802467, 0.3055555555555556, 'entropy = 0.0\\nsamples = 5\\nvalue = [5, 0]'),\n",
              " Text(0.37037037037037035, 0.3611111111111111, 'entropy = 0.0\\nsamples = 2\\nvalue = [0, 2]'),\n",
              " Text(0.38271604938271603, 0.4166666666666667, 'entropy = 0.0\\nsamples = 2\\nvalue = [0, 2]'),\n",
              " Text(0.38271604938271603, 0.5277777777777778, 'entropy = 0.0\\nsamples = 3\\nvalue = [0, 3]'),\n",
              " Text(0.5910493827160493, 0.75, 'x[7] <= 58.5\\nentropy = 0.995\\nsamples = 105\\nvalue = [48, 57]'),\n",
              " Text(0.5787037037037037, 0.6944444444444444, 'x[5] <= 45.3\\nentropy = 0.986\\nsamples = 100\\nvalue = [43, 57]'),\n",
              " Text(0.566358024691358, 0.6388888888888888, 'x[6] <= 0.528\\nentropy = 0.995\\nsamples = 94\\nvalue = [43, 51]'),\n",
              " Text(0.4660493827160494, 0.5833333333333334, 'x[7] <= 34.5\\nentropy = 0.995\\nsamples = 63\\nvalue = [34, 29]'),\n",
              " Text(0.43209876543209874, 0.5277777777777778, 'x[1] <= 129.5\\nentropy = 0.811\\nsamples = 20\\nvalue = [15, 5]'),\n",
              " Text(0.41975308641975306, 0.4722222222222222, 'x[1] <= 121.5\\nentropy = 0.65\\nsamples = 18\\nvalue = [15, 3]'),\n",
              " Text(0.4074074074074074, 0.4166666666666667, 'x[1] <= 116.0\\nentropy = 0.881\\nsamples = 10\\nvalue = [7, 3]'),\n",
              " Text(0.3950617283950617, 0.3611111111111111, 'entropy = 0.0\\nsamples = 4\\nvalue = [4, 0]'),\n",
              " Text(0.41975308641975306, 0.3611111111111111, 'x[5] <= 37.0\\nentropy = 1.0\\nsamples = 6\\nvalue = [3, 3]'),\n",
              " Text(0.4074074074074074, 0.3055555555555556, 'x[2] <= 88.0\\nentropy = 0.811\\nsamples = 4\\nvalue = [1, 3]'),\n",
              " Text(0.3950617283950617, 0.25, 'entropy = 0.0\\nsamples = 3\\nvalue = [0, 3]'),\n",
              " Text(0.41975308641975306, 0.25, 'entropy = 0.0\\nsamples = 1\\nvalue = [1, 0]'),\n",
              " Text(0.43209876543209874, 0.3055555555555556, 'entropy = 0.0\\nsamples = 2\\nvalue = [2, 0]'),\n",
              " Text(0.43209876543209874, 0.4166666666666667, 'entropy = 0.0\\nsamples = 8\\nvalue = [8, 0]'),\n",
              " Text(0.4444444444444444, 0.4722222222222222, 'entropy = 0.0\\nsamples = 2\\nvalue = [0, 2]'),\n",
              " Text(0.5, 0.5277777777777778, 'x[5] <= 27.55\\nentropy = 0.99\\nsamples = 43\\nvalue = [19, 24]'),\n",
              " Text(0.4876543209876543, 0.4722222222222222, 'entropy = 0.0\\nsamples = 3\\nvalue = [0, 3]'),\n",
              " Text(0.5123456790123457, 0.4722222222222222, 'x[5] <= 29.85\\nentropy = 0.998\\nsamples = 40\\nvalue = [19, 21]'),\n",
              " Text(0.5, 0.4166666666666667, 'entropy = 0.0\\nsamples = 4\\nvalue = [4, 0]'),\n",
              " Text(0.5246913580246914, 0.4166666666666667, 'x[7] <= 51.5\\nentropy = 0.98\\nsamples = 36\\nvalue = [15, 21]'),\n",
              " Text(0.5123456790123457, 0.3611111111111111, 'x[2] <= 75.0\\nentropy = 0.994\\nsamples = 33\\nvalue = [15, 18]'),\n",
              " Text(0.4567901234567901, 0.3055555555555556, 'x[6] <= 0.25\\nentropy = 0.837\\nsamples = 15\\nvalue = [4, 11]'),\n",
              " Text(0.4444444444444444, 0.25, 'entropy = 0.0\\nsamples = 5\\nvalue = [0, 5]'),\n",
              " Text(0.4691358024691358, 0.25, 'x[6] <= 0.259\\nentropy = 0.971\\nsamples = 10\\nvalue = [4, 6]'),\n",
              " Text(0.4567901234567901, 0.19444444444444445, 'entropy = 0.0\\nsamples = 2\\nvalue = [2, 0]'),\n",
              " Text(0.48148148148148145, 0.19444444444444445, 'x[2] <= 30.0\\nentropy = 0.811\\nsamples = 8\\nvalue = [2, 6]'),\n",
              " Text(0.4691358024691358, 0.1388888888888889, 'entropy = 0.0\\nsamples = 1\\nvalue = [1, 0]'),\n",
              " Text(0.49382716049382713, 0.1388888888888889, 'x[3] <= 40.0\\nentropy = 0.592\\nsamples = 7\\nvalue = [1, 6]'),\n",
              " Text(0.48148148148148145, 0.08333333333333333, 'entropy = 0.0\\nsamples = 5\\nvalue = [0, 5]'),\n",
              " Text(0.5061728395061729, 0.08333333333333333, 'x[2] <= 69.0\\nentropy = 1.0\\nsamples = 2\\nvalue = [1, 1]'),\n",
              " Text(0.49382716049382713, 0.027777777777777776, 'entropy = 0.0\\nsamples = 1\\nvalue = [0, 1]'),\n",
              " Text(0.5185185185185185, 0.027777777777777776, 'entropy = 0.0\\nsamples = 1\\nvalue = [1, 0]'),\n",
              " Text(0.5679012345679012, 0.3055555555555556, 'x[5] <= 37.1\\nentropy = 0.964\\nsamples = 18\\nvalue = [11, 7]'),\n",
              " Text(0.5555555555555556, 0.25, 'x[3] <= 19.5\\nentropy = 0.996\\nsamples = 13\\nvalue = [6, 7]'),\n",
              " Text(0.5308641975308642, 0.19444444444444445, 'x[6] <= 0.34\\nentropy = 0.863\\nsamples = 7\\nvalue = [5, 2]'),\n",
              " Text(0.5185185185185185, 0.1388888888888889, 'entropy = 0.0\\nsamples = 4\\nvalue = [4, 0]'),\n",
              " Text(0.5432098765432098, 0.1388888888888889, 'x[0] <= 8.0\\nentropy = 0.918\\nsamples = 3\\nvalue = [1, 2]'),\n",
              " Text(0.5308641975308642, 0.08333333333333333, 'entropy = 0.0\\nsamples = 2\\nvalue = [0, 2]'),\n",
              " Text(0.5555555555555556, 0.08333333333333333, 'entropy = 0.0\\nsamples = 1\\nvalue = [1, 0]'),\n",
              " Text(0.5802469135802469, 0.19444444444444445, 'x[2] <= 80.0\\nentropy = 0.65\\nsamples = 6\\nvalue = [1, 5]'),\n",
              " Text(0.5679012345679012, 0.1388888888888889, 'entropy = 0.0\\nsamples = 1\\nvalue = [1, 0]'),\n",
              " Text(0.5925925925925926, 0.1388888888888889, 'entropy = 0.0\\nsamples = 5\\nvalue = [0, 5]'),\n",
              " Text(0.5802469135802469, 0.25, 'entropy = 0.0\\nsamples = 5\\nvalue = [5, 0]'),\n",
              " Text(0.5370370370370371, 0.3611111111111111, 'entropy = 0.0\\nsamples = 3\\nvalue = [0, 3]'),\n",
              " Text(0.6666666666666666, 0.5833333333333334, 'x[7] <= 53.0\\nentropy = 0.869\\nsamples = 31\\nvalue = [9, 22]'),\n",
              " Text(0.654320987654321, 0.5277777777777778, 'x[3] <= 38.0\\nentropy = 0.797\\nsamples = 29\\nvalue = [7, 22]'),\n",
              " Text(0.6296296296296297, 0.4722222222222222, 'x[3] <= 9.0\\nentropy = 0.634\\nsamples = 25\\nvalue = [4, 21]'),\n",
              " Text(0.6172839506172839, 0.4166666666666667, 'x[0] <= 8.0\\nentropy = 0.946\\nsamples = 11\\nvalue = [4, 7]'),\n",
              " Text(0.6049382716049383, 0.3611111111111111, 'x[6] <= 0.72\\nentropy = 0.985\\nsamples = 7\\nvalue = [4, 3]'),\n",
              " Text(0.5925925925925926, 0.3055555555555556, 'entropy = 0.0\\nsamples = 3\\nvalue = [3, 0]'),\n",
              " Text(0.6172839506172839, 0.3055555555555556, 'x[7] <= 40.5\\nentropy = 0.811\\nsamples = 4\\nvalue = [1, 3]'),\n",
              " Text(0.6049382716049383, 0.25, 'entropy = 0.0\\nsamples = 3\\nvalue = [0, 3]'),\n",
              " Text(0.6296296296296297, 0.25, 'entropy = 0.0\\nsamples = 1\\nvalue = [1, 0]'),\n",
              " Text(0.6296296296296297, 0.3611111111111111, 'entropy = 0.0\\nsamples = 4\\nvalue = [0, 4]'),\n",
              " Text(0.6419753086419753, 0.4166666666666667, 'entropy = 0.0\\nsamples = 14\\nvalue = [0, 14]'),\n",
              " Text(0.6790123456790124, 0.4722222222222222, 'x[2] <= 86.0\\nentropy = 0.811\\nsamples = 4\\nvalue = [3, 1]'),\n",
              " Text(0.6666666666666666, 0.4166666666666667, 'entropy = 0.0\\nsamples = 3\\nvalue = [3, 0]'),\n",
              " Text(0.691358024691358, 0.4166666666666667, 'entropy = 0.0\\nsamples = 1\\nvalue = [0, 1]'),\n",
              " Text(0.6790123456790124, 0.5277777777777778, 'entropy = 0.0\\nsamples = 2\\nvalue = [2, 0]'),\n",
              " Text(0.5910493827160493, 0.6388888888888888, 'entropy = 0.0\\nsamples = 6\\nvalue = [0, 6]'),\n",
              " Text(0.6033950617283951, 0.6944444444444444, 'entropy = 0.0\\nsamples = 5\\nvalue = [5, 0]'),\n",
              " Text(0.8703703703703703, 0.9166666666666666, 'x[1] <= 166.5\\nentropy = 0.808\\nsamples = 125\\nvalue = [31, 94]'),\n",
              " Text(0.8024691358024691, 0.8611111111111112, 'x[6] <= 0.331\\nentropy = 0.949\\nsamples = 68\\nvalue = [25, 43]'),\n",
              " Text(0.7530864197530864, 0.8055555555555556, 'x[2] <= 63.0\\nentropy = 0.985\\nsamples = 28\\nvalue = [16, 12]'),\n",
              " Text(0.7407407407407407, 0.75, 'entropy = 0.0\\nsamples = 4\\nvalue = [0, 4]'),\n",
              " Text(0.7654320987654321, 0.75, 'x[3] <= 18.5\\nentropy = 0.918\\nsamples = 24\\nvalue = [16, 8]'),\n",
              " Text(0.7530864197530864, 0.6944444444444444, 'x[5] <= 31.4\\nentropy = 0.997\\nsamples = 15\\nvalue = [7, 8]'),\n",
              " Text(0.7283950617283951, 0.6388888888888888, 'x[1] <= 157.0\\nentropy = 0.811\\nsamples = 8\\nvalue = [6, 2]'),\n",
              " Text(0.7160493827160493, 0.5833333333333334, 'x[5] <= 22.9\\nentropy = 0.918\\nsamples = 3\\nvalue = [1, 2]'),\n",
              " Text(0.7037037037037037, 0.5277777777777778, 'entropy = 0.0\\nsamples = 1\\nvalue = [1, 0]'),\n",
              " Text(0.7283950617283951, 0.5277777777777778, 'entropy = 0.0\\nsamples = 2\\nvalue = [0, 2]'),\n",
              " Text(0.7407407407407407, 0.5833333333333334, 'entropy = 0.0\\nsamples = 5\\nvalue = [5, 0]'),\n",
              " Text(0.7777777777777778, 0.6388888888888888, 'x[7] <= 58.5\\nentropy = 0.592\\nsamples = 7\\nvalue = [1, 6]'),\n",
              " Text(0.7654320987654321, 0.5833333333333334, 'entropy = 0.0\\nsamples = 5\\nvalue = [0, 5]'),\n",
              " Text(0.7901234567901234, 0.5833333333333334, 'x[5] <= 33.1\\nentropy = 1.0\\nsamples = 2\\nvalue = [1, 1]'),\n",
              " Text(0.7777777777777778, 0.5277777777777778, 'entropy = 0.0\\nsamples = 1\\nvalue = [0, 1]'),\n",
              " Text(0.8024691358024691, 0.5277777777777778, 'entropy = 0.0\\nsamples = 1\\nvalue = [1, 0]'),\n",
              " Text(0.7777777777777778, 0.6944444444444444, 'entropy = 0.0\\nsamples = 9\\nvalue = [9, 0]'),\n",
              " Text(0.8518518518518519, 0.8055555555555556, 'x[6] <= 0.414\\nentropy = 0.769\\nsamples = 40\\nvalue = [9, 31]'),\n",
              " Text(0.8395061728395061, 0.75, 'entropy = 0.0\\nsamples = 11\\nvalue = [0, 11]'),\n",
              " Text(0.8641975308641975, 0.75, 'x[0] <= 7.5\\nentropy = 0.894\\nsamples = 29\\nvalue = [9, 20]'),\n",
              " Text(0.8518518518518519, 0.6944444444444444, 'x[4] <= 110.0\\nentropy = 0.998\\nsamples = 19\\nvalue = [9, 10]'),\n",
              " Text(0.8271604938271605, 0.6388888888888888, 'x[5] <= 30.55\\nentropy = 0.811\\nsamples = 12\\nvalue = [3, 9]'),\n",
              " Text(0.8148148148148148, 0.5833333333333334, 'entropy = 0.0\\nsamples = 2\\nvalue = [2, 0]'),\n",
              " Text(0.8395061728395061, 0.5833333333333334, 'x[6] <= 1.502\\nentropy = 0.469\\nsamples = 10\\nvalue = [1, 9]'),\n",
              " Text(0.8271604938271605, 0.5277777777777778, 'entropy = 0.0\\nsamples = 9\\nvalue = [0, 9]'),\n",
              " Text(0.8518518518518519, 0.5277777777777778, 'entropy = 0.0\\nsamples = 1\\nvalue = [1, 0]'),\n",
              " Text(0.8765432098765432, 0.6388888888888888, 'x[5] <= 32.05\\nentropy = 0.592\\nsamples = 7\\nvalue = [6, 1]'),\n",
              " Text(0.8641975308641975, 0.5833333333333334, 'entropy = 0.0\\nsamples = 1\\nvalue = [0, 1]'),\n",
              " Text(0.8888888888888888, 0.5833333333333334, 'entropy = 0.0\\nsamples = 6\\nvalue = [6, 0]'),\n",
              " Text(0.8765432098765432, 0.6944444444444444, 'entropy = 0.0\\nsamples = 10\\nvalue = [0, 10]'),\n",
              " Text(0.9382716049382716, 0.8611111111111112, 'x[7] <= 57.5\\nentropy = 0.485\\nsamples = 57\\nvalue = [6, 51]'),\n",
              " Text(0.9135802469135802, 0.8055555555555556, 'x[1] <= 188.5\\nentropy = 0.332\\nsamples = 49\\nvalue = [3, 46]'),\n",
              " Text(0.9012345679012346, 0.75, 'entropy = 0.0\\nsamples = 37\\nvalue = [0, 37]'),\n",
              " Text(0.9259259259259259, 0.75, 'x[0] <= 4.5\\nentropy = 0.811\\nsamples = 12\\nvalue = [3, 9]'),\n",
              " Text(0.9135802469135802, 0.6944444444444444, 'x[0] <= 2.0\\nentropy = 1.0\\nsamples = 6\\nvalue = [3, 3]'),\n",
              " Text(0.9012345679012346, 0.6388888888888888, 'entropy = 0.0\\nsamples = 3\\nvalue = [0, 3]'),\n",
              " Text(0.9259259259259259, 0.6388888888888888, 'entropy = 0.0\\nsamples = 3\\nvalue = [3, 0]'),\n",
              " Text(0.9382716049382716, 0.6944444444444444, 'entropy = 0.0\\nsamples = 6\\nvalue = [0, 6]'),\n",
              " Text(0.9629629629629629, 0.8055555555555556, 'x[2] <= 74.0\\nentropy = 0.954\\nsamples = 8\\nvalue = [3, 5]'),\n",
              " Text(0.9506172839506173, 0.75, 'entropy = 0.0\\nsamples = 3\\nvalue = [0, 3]'),\n",
              " Text(0.9753086419753086, 0.75, 'x[6] <= 0.509\\nentropy = 0.971\\nsamples = 5\\nvalue = [3, 2]'),\n",
              " Text(0.9629629629629629, 0.6944444444444444, 'x[2] <= 93.5\\nentropy = 0.918\\nsamples = 3\\nvalue = [1, 2]'),\n",
              " Text(0.9506172839506173, 0.6388888888888888, 'entropy = 0.0\\nsamples = 2\\nvalue = [0, 2]'),\n",
              " Text(0.9753086419753086, 0.6388888888888888, 'entropy = 0.0\\nsamples = 1\\nvalue = [1, 0]'),\n",
              " Text(0.9876543209876543, 0.6944444444444444, 'entropy = 0.0\\nsamples = 2\\nvalue = [2, 0]')]"
            ]
          },
          "execution_count": 94,
          "metadata": {},
          "output_type": "execute_result"
        },
        {
          "data": {
            "image/png": "[encoded data removed]",
            "text/plain": [
              "<Figure size 640x480 with 1 Axes>"
            ]
          },
          "metadata": {},
          "output_type": "display_data"
        }
      ],
      "source": [
        "tree.plot_tree(model_entropy)"
      ]
    }
  ],
  "metadata": {
    "colab": {
      "provenance": []
    },
    "kernelspec": {
      "display_name": "Python 3",
      "name": "python3"
    },
    "language_info": {
      "name": "python"
    }
  },
  "nbformat": 4,
  "nbformat_minor": 0
}
